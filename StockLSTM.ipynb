{
  "cells": [
    {
      "cell_type": "markdown",
      "metadata": {
        "id": "view-in-github",
        "colab_type": "text"
      },
      "source": [
        "<a href=\"https://colab.research.google.com/github/tanp2612/ML-StockMarketPredictionAndForecastingUsingStackedLSTM/blob/master/StockLSTM.ipynb\" target=\"_parent\"><img src=\"https://colab.research.google.com/assets/colab-badge.svg\" alt=\"Open In Colab\"/></a>"
      ]
    },
    {
      "cell_type": "code",
      "execution_count": 424,
      "metadata": {
        "id": "GYXl0MB5vnmU",
        "colab": {
          "base_uri": "https://localhost:8080/",
          "height": 0
        },
        "outputId": "015d0405-1f0c-4e9e-c239-061bd1305744"
      },
      "outputs": [
        {
          "output_type": "stream",
          "name": "stdout",
          "text": [
            "Drive already mounted at /content/drive; to attempt to forcibly remount, call drive.mount(\"/content/drive\", force_remount=True).\n"
          ]
        }
      ],
      "source": [
        "from google.colab import drive\n",
        "drive.mount('/content/drive')\n",
        "import numpy as np\n",
        "import matplotlib.pyplot as plt\n",
        "import math\n",
        "from sklearn.metrics import mean_squared_error\n",
        "import pandas as pd\n",
        "import datetime"
      ]
    },
    {
      "cell_type": "code",
      "execution_count": 425,
      "metadata": {
        "id": "n44Sq-g8v8NM"
      },
      "outputs": [],
      "source": [
        "data = pd.read_csv(r\"/content/drive/MyDrive/NSE-TATAGLOBAL.csv\")"
      ]
    },
    {
      "cell_type": "code",
      "execution_count": 426,
      "metadata": {
        "id": "gtQwQHNrwDDf",
        "colab": {
          "base_uri": "https://localhost:8080/",
          "height": 206
        },
        "outputId": "e3bb3ca2-077f-4aee-ad01-f1a9479e3b33"
      },
      "outputs": [
        {
          "output_type": "execute_result",
          "data": {
            "text/plain": [
              "         Date    Open    High     Low    Last   Close  Total Trade Quantity  \\\n",
              "0  28-09-2018  234.05  235.95  230.20  233.50  233.75               3069914   \n",
              "1  27-09-2018  234.55  236.80  231.10  233.80  233.25               5082859   \n",
              "2  26-09-2018  240.00  240.00  232.50  235.00  234.25               2240909   \n",
              "3  25-09-2018  233.30  236.75  232.00  236.25  236.10               2349368   \n",
              "4  24-09-2018  233.55  239.20  230.75  234.00  233.30               3423509   \n",
              "\n",
              "   Turnover (Lacs)  \n",
              "0          7162.35  \n",
              "1         11859.95  \n",
              "2          5248.60  \n",
              "3          5503.90  \n",
              "4          7999.55  "
            ],
            "text/html": [
              "\n",
              "  <div id=\"df-d1abc955-282e-40a9-9032-77af27eb6f9a\">\n",
              "    <div class=\"colab-df-container\">\n",
              "      <div>\n",
              "<style scoped>\n",
              "    .dataframe tbody tr th:only-of-type {\n",
              "        vertical-align: middle;\n",
              "    }\n",
              "\n",
              "    .dataframe tbody tr th {\n",
              "        vertical-align: top;\n",
              "    }\n",
              "\n",
              "    .dataframe thead th {\n",
              "        text-align: right;\n",
              "    }\n",
              "</style>\n",
              "<table border=\"1\" class=\"dataframe\">\n",
              "  <thead>\n",
              "    <tr style=\"text-align: right;\">\n",
              "      <th></th>\n",
              "      <th>Date</th>\n",
              "      <th>Open</th>\n",
              "      <th>High</th>\n",
              "      <th>Low</th>\n",
              "      <th>Last</th>\n",
              "      <th>Close</th>\n",
              "      <th>Total Trade Quantity</th>\n",
              "      <th>Turnover (Lacs)</th>\n",
              "    </tr>\n",
              "  </thead>\n",
              "  <tbody>\n",
              "    <tr>\n",
              "      <th>0</th>\n",
              "      <td>28-09-2018</td>\n",
              "      <td>234.05</td>\n",
              "      <td>235.95</td>\n",
              "      <td>230.20</td>\n",
              "      <td>233.50</td>\n",
              "      <td>233.75</td>\n",
              "      <td>3069914</td>\n",
              "      <td>7162.35</td>\n",
              "    </tr>\n",
              "    <tr>\n",
              "      <th>1</th>\n",
              "      <td>27-09-2018</td>\n",
              "      <td>234.55</td>\n",
              "      <td>236.80</td>\n",
              "      <td>231.10</td>\n",
              "      <td>233.80</td>\n",
              "      <td>233.25</td>\n",
              "      <td>5082859</td>\n",
              "      <td>11859.95</td>\n",
              "    </tr>\n",
              "    <tr>\n",
              "      <th>2</th>\n",
              "      <td>26-09-2018</td>\n",
              "      <td>240.00</td>\n",
              "      <td>240.00</td>\n",
              "      <td>232.50</td>\n",
              "      <td>235.00</td>\n",
              "      <td>234.25</td>\n",
              "      <td>2240909</td>\n",
              "      <td>5248.60</td>\n",
              "    </tr>\n",
              "    <tr>\n",
              "      <th>3</th>\n",
              "      <td>25-09-2018</td>\n",
              "      <td>233.30</td>\n",
              "      <td>236.75</td>\n",
              "      <td>232.00</td>\n",
              "      <td>236.25</td>\n",
              "      <td>236.10</td>\n",
              "      <td>2349368</td>\n",
              "      <td>5503.90</td>\n",
              "    </tr>\n",
              "    <tr>\n",
              "      <th>4</th>\n",
              "      <td>24-09-2018</td>\n",
              "      <td>233.55</td>\n",
              "      <td>239.20</td>\n",
              "      <td>230.75</td>\n",
              "      <td>234.00</td>\n",
              "      <td>233.30</td>\n",
              "      <td>3423509</td>\n",
              "      <td>7999.55</td>\n",
              "    </tr>\n",
              "  </tbody>\n",
              "</table>\n",
              "</div>\n",
              "      <button class=\"colab-df-convert\" onclick=\"convertToInteractive('df-d1abc955-282e-40a9-9032-77af27eb6f9a')\"\n",
              "              title=\"Convert this dataframe to an interactive table.\"\n",
              "              style=\"display:none;\">\n",
              "        \n",
              "  <svg xmlns=\"http://www.w3.org/2000/svg\" height=\"24px\"viewBox=\"0 0 24 24\"\n",
              "       width=\"24px\">\n",
              "    <path d=\"M0 0h24v24H0V0z\" fill=\"none\"/>\n",
              "    <path d=\"M18.56 5.44l.94 2.06.94-2.06 2.06-.94-2.06-.94-.94-2.06-.94 2.06-2.06.94zm-11 1L8.5 8.5l.94-2.06 2.06-.94-2.06-.94L8.5 2.5l-.94 2.06-2.06.94zm10 10l.94 2.06.94-2.06 2.06-.94-2.06-.94-.94-2.06-.94 2.06-2.06.94z\"/><path d=\"M17.41 7.96l-1.37-1.37c-.4-.4-.92-.59-1.43-.59-.52 0-1.04.2-1.43.59L10.3 9.45l-7.72 7.72c-.78.78-.78 2.05 0 2.83L4 21.41c.39.39.9.59 1.41.59.51 0 1.02-.2 1.41-.59l7.78-7.78 2.81-2.81c.8-.78.8-2.07 0-2.86zM5.41 20L4 18.59l7.72-7.72 1.47 1.35L5.41 20z\"/>\n",
              "  </svg>\n",
              "      </button>\n",
              "      \n",
              "  <style>\n",
              "    .colab-df-container {\n",
              "      display:flex;\n",
              "      flex-wrap:wrap;\n",
              "      gap: 12px;\n",
              "    }\n",
              "\n",
              "    .colab-df-convert {\n",
              "      background-color: #E8F0FE;\n",
              "      border: none;\n",
              "      border-radius: 50%;\n",
              "      cursor: pointer;\n",
              "      display: none;\n",
              "      fill: #1967D2;\n",
              "      height: 32px;\n",
              "      padding: 0 0 0 0;\n",
              "      width: 32px;\n",
              "    }\n",
              "\n",
              "    .colab-df-convert:hover {\n",
              "      background-color: #E2EBFA;\n",
              "      box-shadow: 0px 1px 2px rgba(60, 64, 67, 0.3), 0px 1px 3px 1px rgba(60, 64, 67, 0.15);\n",
              "      fill: #174EA6;\n",
              "    }\n",
              "\n",
              "    [theme=dark] .colab-df-convert {\n",
              "      background-color: #3B4455;\n",
              "      fill: #D2E3FC;\n",
              "    }\n",
              "\n",
              "    [theme=dark] .colab-df-convert:hover {\n",
              "      background-color: #434B5C;\n",
              "      box-shadow: 0px 1px 3px 1px rgba(0, 0, 0, 0.15);\n",
              "      filter: drop-shadow(0px 1px 2px rgba(0, 0, 0, 0.3));\n",
              "      fill: #FFFFFF;\n",
              "    }\n",
              "  </style>\n",
              "\n",
              "      <script>\n",
              "        const buttonEl =\n",
              "          document.querySelector('#df-d1abc955-282e-40a9-9032-77af27eb6f9a button.colab-df-convert');\n",
              "        buttonEl.style.display =\n",
              "          google.colab.kernel.accessAllowed ? 'block' : 'none';\n",
              "\n",
              "        async function convertToInteractive(key) {\n",
              "          const element = document.querySelector('#df-d1abc955-282e-40a9-9032-77af27eb6f9a');\n",
              "          const dataTable =\n",
              "            await google.colab.kernel.invokeFunction('convertToInteractive',\n",
              "                                                     [key], {});\n",
              "          if (!dataTable) return;\n",
              "\n",
              "          const docLinkHtml = 'Like what you see? Visit the ' +\n",
              "            '<a target=\"_blank\" href=https://colab.research.google.com/notebooks/data_table.ipynb>data table notebook</a>'\n",
              "            + ' to learn more about interactive tables.';\n",
              "          element.innerHTML = '';\n",
              "          dataTable['output_type'] = 'display_data';\n",
              "          await google.colab.output.renderOutput(dataTable, element);\n",
              "          const docLink = document.createElement('div');\n",
              "          docLink.innerHTML = docLinkHtml;\n",
              "          element.appendChild(docLink);\n",
              "        }\n",
              "      </script>\n",
              "    </div>\n",
              "  </div>\n",
              "  "
            ]
          },
          "metadata": {},
          "execution_count": 426
        }
      ],
      "source": [
        "data.head()"
      ]
    },
    {
      "cell_type": "code",
      "source": [
        "data.isna().any()"
      ],
      "metadata": {
        "id": "wLjR7uZs26sx",
        "colab": {
          "base_uri": "https://localhost:8080/",
          "height": 0
        },
        "outputId": "958a34a5-9c7a-4fc4-8934-b2a5f34584b9"
      },
      "execution_count": 427,
      "outputs": [
        {
          "output_type": "execute_result",
          "data": {
            "text/plain": [
              "Date                    False\n",
              "Open                    False\n",
              "High                    False\n",
              "Low                     False\n",
              "Last                    False\n",
              "Close                   False\n",
              "Total Trade Quantity    False\n",
              "Turnover (Lacs)         False\n",
              "dtype: bool"
            ]
          },
          "metadata": {},
          "execution_count": 427
        }
      ]
    },
    {
      "cell_type": "code",
      "source": [
        "data.info()"
      ],
      "metadata": {
        "id": "2h5JVmaO382A",
        "colab": {
          "base_uri": "https://localhost:8080/",
          "height": 0
        },
        "outputId": "dc9c31b6-02be-4013-aa37-873933e75fa7"
      },
      "execution_count": 428,
      "outputs": [
        {
          "output_type": "stream",
          "name": "stdout",
          "text": [
            "<class 'pandas.core.frame.DataFrame'>\n",
            "RangeIndex: 2035 entries, 0 to 2034\n",
            "Data columns (total 8 columns):\n",
            " #   Column                Non-Null Count  Dtype  \n",
            "---  ------                --------------  -----  \n",
            " 0   Date                  2035 non-null   object \n",
            " 1   Open                  2035 non-null   float64\n",
            " 2   High                  2035 non-null   float64\n",
            " 3   Low                   2035 non-null   float64\n",
            " 4   Last                  2035 non-null   float64\n",
            " 5   Close                 2035 non-null   float64\n",
            " 6   Total Trade Quantity  2035 non-null   int64  \n",
            " 7   Turnover (Lacs)       2035 non-null   float64\n",
            "dtypes: float64(6), int64(1), object(1)\n",
            "memory usage: 127.3+ KB\n"
          ]
        }
      ]
    },
    {
      "cell_type": "code",
      "source": [
        "df = data.reset_index()['Open']\n",
        "print(df)"
      ],
      "metadata": {
        "id": "jfqeTM-7f_ZR",
        "colab": {
          "base_uri": "https://localhost:8080/",
          "height": 0
        },
        "outputId": "a6c54de8-0ecd-4259-d53f-ce19f8632e39"
      },
      "execution_count": 429,
      "outputs": [
        {
          "output_type": "stream",
          "name": "stdout",
          "text": [
            "0       234.05\n",
            "1       234.55\n",
            "2       240.00\n",
            "3       233.30\n",
            "4       233.55\n",
            "         ...  \n",
            "2030    117.60\n",
            "2031    120.10\n",
            "2032    121.80\n",
            "2033    120.30\n",
            "2034    122.10\n",
            "Name: Open, Length: 2035, dtype: float64\n"
          ]
        }
      ]
    },
    {
      "cell_type": "code",
      "source": [
        "data['Open'].plot(figsize=(16,6))"
      ],
      "metadata": {
        "id": "RBgcMTfk4As-",
        "colab": {
          "base_uri": "https://localhost:8080/",
          "height": 391
        },
        "outputId": "7ed8a464-6535-4809-896d-17f94bb7c4fd"
      },
      "execution_count": 430,
      "outputs": [
        {
          "output_type": "execute_result",
          "data": {
            "text/plain": [
              "<matplotlib.axes._subplots.AxesSubplot at 0x7fe2447c4ed0>"
            ]
          },
          "metadata": {},
          "execution_count": 430
        },
        {
          "output_type": "display_data",
          "data": {
            "text/plain": [
              "<Figure size 1152x432 with 1 Axes>"
            ],
            "image/png": "[encoded data removed]"
          },
          "metadata": {
            "needs_background": "light"
          }
        }
      ]
    },
    {
      "cell_type": "code",
      "source": [
        "data.rolling(7).mean().head(20)"
      ],
      "metadata": {
        "id": "ha4bZRR84RBv",
        "colab": {
          "base_uri": "https://localhost:8080/",
          "height": 676
        },
        "outputId": "b9650dd3-f4f3-4694-e5af-9a4127bc29cd"
      },
      "execution_count": 431,
      "outputs": [
        {
          "output_type": "execute_result",
          "data": {
            "text/plain": [
              "          Open        High         Low        Last       Close  \\\n",
              "0          NaN         NaN         NaN         NaN         NaN   \n",
              "1          NaN         NaN         NaN         NaN         NaN   \n",
              "2          NaN         NaN         NaN         NaN         NaN   \n",
              "3          NaN         NaN         NaN         NaN         NaN   \n",
              "4          NaN         NaN         NaN         NaN         NaN   \n",
              "5          NaN         NaN         NaN         NaN         NaN   \n",
              "6   235.200000  237.557143  231.135714  234.414286  234.307143   \n",
              "7   235.750000  238.028571  231.607143  234.700000  234.492857   \n",
              "8   235.550000  238.200000  231.485714  235.071429  234.971429   \n",
              "9   233.185714  237.728571  230.171429  234.928571  234.928571   \n",
              "10  230.764286  235.864286  227.407143  232.842857  233.007143   \n",
              "11  229.185714  233.892857  225.135714  230.321429  230.535714   \n",
              "12  227.400000  233.628571  224.092857  228.507143  228.735714   \n",
              "13  225.264286  231.814286  222.042857  226.871429  227.028571   \n",
              "14  223.278571  229.778571  219.857143  224.792857  225.028571   \n",
              "15  221.685714  227.864286  217.707143  222.750000  223.000000   \n",
              "16  223.792857  228.078571  217.607143  221.242857  221.535714   \n",
              "17  226.600000  230.914286  220.807143  223.414286  223.542857   \n",
              "18  228.671429  232.964286  223.392857  226.028571  226.157143   \n",
              "19  230.507143  233.271429  225.028571  228.350000  228.157143   \n",
              "\n",
              "    Total Trade Quantity  Turnover (Lacs)  \n",
              "0                    NaN              NaN  \n",
              "1                    NaN              NaN  \n",
              "2                    NaN              NaN  \n",
              "3                    NaN              NaN  \n",
              "4                    NaN              NaN  \n",
              "5                    NaN              NaN  \n",
              "6           3.274848e+06      7652.388571  \n",
              "7           3.209831e+06      7509.724286  \n",
              "8           2.936693e+06      6879.075714  \n",
              "9           3.527693e+06      8241.347143  \n",
              "10          3.845060e+06      8883.934286  \n",
              "11          3.857272e+06      8846.257143  \n",
              "12          4.159956e+06      9494.928571  \n",
              "13          4.141448e+06      9429.222857  \n",
              "14          4.016310e+06      9099.654286  \n",
              "15          3.995196e+06      8989.585714  \n",
              "16          3.591903e+06      8043.774286  \n",
              "17          3.687891e+06      8406.114286  \n",
              "18          3.665725e+06      8431.457143  \n",
              "19          2.866757e+06      6629.497143  "
            ],
            "text/html": [
              "\n",
              "  <div id=\"df-79cb9f6d-dfd0-4206-8523-0a478acd0730\">\n",
              "    <div class=\"colab-df-container\">\n",
              "      <div>\n",
              "<style scoped>\n",
              "    .dataframe tbody tr th:only-of-type {\n",
              "        vertical-align: middle;\n",
              "    }\n",
              "\n",
              "    .dataframe tbody tr th {\n",
              "        vertical-align: top;\n",
              "    }\n",
              "\n",
              "    .dataframe thead th {\n",
              "        text-align: right;\n",
              "    }\n",
              "</style>\n",
              "<table border=\"1\" class=\"dataframe\">\n",
              "  <thead>\n",
              "    <tr style=\"text-align: right;\">\n",
              "      <th></th>\n",
              "      <th>Open</th>\n",
              "      <th>High</th>\n",
              "      <th>Low</th>\n",
              "      <th>Last</th>\n",
              "      <th>Close</th>\n",
              "      <th>Total Trade Quantity</th>\n",
              "      <th>Turnover (Lacs)</th>\n",
              "    </tr>\n",
              "  </thead>\n",
              "  <tbody>\n",
              "    <tr>\n",
              "      <th>0</th>\n",
              "      <td>NaN</td>\n",
              "      <td>NaN</td>\n",
              "      <td>NaN</td>\n",
              "      <td>NaN</td>\n",
              "      <td>NaN</td>\n",
              "      <td>NaN</td>\n",
              "      <td>NaN</td>\n",
              "    </tr>\n",
              "    <tr>\n",
              "      <th>1</th>\n",
              "      <td>NaN</td>\n",
              "      <td>NaN</td>\n",
              "      <td>NaN</td>\n",
              "      <td>NaN</td>\n",
              "      <td>NaN</td>\n",
              "      <td>NaN</td>\n",
              "      <td>NaN</td>\n",
              "    </tr>\n",
              "    <tr>\n",
              "      <th>2</th>\n",
              "      <td>NaN</td>\n",
              "      <td>NaN</td>\n",
              "      <td>NaN</td>\n",
              "      <td>NaN</td>\n",
              "      <td>NaN</td>\n",
              "      <td>NaN</td>\n",
              "      <td>NaN</td>\n",
              "    </tr>\n",
              "    <tr>\n",
              "      <th>3</th>\n",
              "      <td>NaN</td>\n",
              "      <td>NaN</td>\n",
              "      <td>NaN</td>\n",
              "      <td>NaN</td>\n",
              "      <td>NaN</td>\n",
              "      <td>NaN</td>\n",
              "      <td>NaN</td>\n",
              "    </tr>\n",
              "    <tr>\n",
              "      <th>4</th>\n",
              "      <td>NaN</td>\n",
              "      <td>NaN</td>\n",
              "      <td>NaN</td>\n",
              "      <td>NaN</td>\n",
              "      <td>NaN</td>\n",
              "      <td>NaN</td>\n",
              "      <td>NaN</td>\n",
              "    </tr>\n",
              "    <tr>\n",
              "      <th>5</th>\n",
              "      <td>NaN</td>\n",
              "      <td>NaN</td>\n",
              "      <td>NaN</td>\n",
              "      <td>NaN</td>\n",
              "      <td>NaN</td>\n",
              "      <td>NaN</td>\n",
              "      <td>NaN</td>\n",
              "    </tr>\n",
              "    <tr>\n",
              "      <th>6</th>\n",
              "      <td>235.200000</td>\n",
              "      <td>237.557143</td>\n",
              "      <td>231.135714</td>\n",
              "      <td>234.414286</td>\n",
              "      <td>234.307143</td>\n",
              "      <td>3.274848e+06</td>\n",
              "      <td>7652.388571</td>\n",
              "    </tr>\n",
              "    <tr>\n",
              "      <th>7</th>\n",
              "      <td>235.750000</td>\n",
              "      <td>238.028571</td>\n",
              "      <td>231.607143</td>\n",
              "      <td>234.700000</td>\n",
              "      <td>234.492857</td>\n",
              "      <td>3.209831e+06</td>\n",
              "      <td>7509.724286</td>\n",
              "    </tr>\n",
              "    <tr>\n",
              "      <th>8</th>\n",
              "      <td>235.550000</td>\n",
              "      <td>238.200000</td>\n",
              "      <td>231.485714</td>\n",
              "      <td>235.071429</td>\n",
              "      <td>234.971429</td>\n",
              "      <td>2.936693e+06</td>\n",
              "      <td>6879.075714</td>\n",
              "    </tr>\n",
              "    <tr>\n",
              "      <th>9</th>\n",
              "      <td>233.185714</td>\n",
              "      <td>237.728571</td>\n",
              "      <td>230.171429</td>\n",
              "      <td>234.928571</td>\n",
              "      <td>234.928571</td>\n",
              "      <td>3.527693e+06</td>\n",
              "      <td>8241.347143</td>\n",
              "    </tr>\n",
              "    <tr>\n",
              "      <th>10</th>\n",
              "      <td>230.764286</td>\n",
              "      <td>235.864286</td>\n",
              "      <td>227.407143</td>\n",
              "      <td>232.842857</td>\n",
              "      <td>233.007143</td>\n",
              "      <td>3.845060e+06</td>\n",
              "      <td>8883.934286</td>\n",
              "    </tr>\n",
              "    <tr>\n",
              "      <th>11</th>\n",
              "      <td>229.185714</td>\n",
              "      <td>233.892857</td>\n",
              "      <td>225.135714</td>\n",
              "      <td>230.321429</td>\n",
              "      <td>230.535714</td>\n",
              "      <td>3.857272e+06</td>\n",
              "      <td>8846.257143</td>\n",
              "    </tr>\n",
              "    <tr>\n",
              "      <th>12</th>\n",
              "      <td>227.400000</td>\n",
              "      <td>233.628571</td>\n",
              "      <td>224.092857</td>\n",
              "      <td>228.507143</td>\n",
              "      <td>228.735714</td>\n",
              "      <td>4.159956e+06</td>\n",
              "      <td>9494.928571</td>\n",
              "    </tr>\n",
              "    <tr>\n",
              "      <th>13</th>\n",
              "      <td>225.264286</td>\n",
              "      <td>231.814286</td>\n",
              "      <td>222.042857</td>\n",
              "      <td>226.871429</td>\n",
              "      <td>227.028571</td>\n",
              "      <td>4.141448e+06</td>\n",
              "      <td>9429.222857</td>\n",
              "    </tr>\n",
              "    <tr>\n",
              "      <th>14</th>\n",
              "      <td>223.278571</td>\n",
              "      <td>229.778571</td>\n",
              "      <td>219.857143</td>\n",
              "      <td>224.792857</td>\n",
              "      <td>225.028571</td>\n",
              "      <td>4.016310e+06</td>\n",
              "      <td>9099.654286</td>\n",
              "    </tr>\n",
              "    <tr>\n",
              "      <th>15</th>\n",
              "      <td>221.685714</td>\n",
              "      <td>227.864286</td>\n",
              "      <td>217.707143</td>\n",
              "      <td>222.750000</td>\n",
              "      <td>223.000000</td>\n",
              "      <td>3.995196e+06</td>\n",
              "      <td>8989.585714</td>\n",
              "    </tr>\n",
              "    <tr>\n",
              "      <th>16</th>\n",
              "      <td>223.792857</td>\n",
              "      <td>228.078571</td>\n",
              "      <td>217.607143</td>\n",
              "      <td>221.242857</td>\n",
              "      <td>221.535714</td>\n",
              "      <td>3.591903e+06</td>\n",
              "      <td>8043.774286</td>\n",
              "    </tr>\n",
              "    <tr>\n",
              "      <th>17</th>\n",
              "      <td>226.600000</td>\n",
              "      <td>230.914286</td>\n",
              "      <td>220.807143</td>\n",
              "      <td>223.414286</td>\n",
              "      <td>223.542857</td>\n",
              "      <td>3.687891e+06</td>\n",
              "      <td>8406.114286</td>\n",
              "    </tr>\n",
              "    <tr>\n",
              "      <th>18</th>\n",
              "      <td>228.671429</td>\n",
              "      <td>232.964286</td>\n",
              "      <td>223.392857</td>\n",
              "      <td>226.028571</td>\n",
              "      <td>226.157143</td>\n",
              "      <td>3.665725e+06</td>\n",
              "      <td>8431.457143</td>\n",
              "    </tr>\n",
              "    <tr>\n",
              "      <th>19</th>\n",
              "      <td>230.507143</td>\n",
              "      <td>233.271429</td>\n",
              "      <td>225.028571</td>\n",
              "      <td>228.350000</td>\n",
              "      <td>228.157143</td>\n",
              "      <td>2.866757e+06</td>\n",
              "      <td>6629.497143</td>\n",
              "    </tr>\n",
              "  </tbody>\n",
              "</table>\n",
              "</div>\n",
              "      <button class=\"colab-df-convert\" onclick=\"convertToInteractive('df-79cb9f6d-dfd0-4206-8523-0a478acd0730')\"\n",
              "              title=\"Convert this dataframe to an interactive table.\"\n",
              "              style=\"display:none;\">\n",
              "        \n",
              "  <svg xmlns=\"http://www.w3.org/2000/svg\" height=\"24px\"viewBox=\"0 0 24 24\"\n",
              "       width=\"24px\">\n",
              "    <path d=\"M0 0h24v24H0V0z\" fill=\"none\"/>\n",
              "    <path d=\"M18.56 5.44l.94 2.06.94-2.06 2.06-.94-2.06-.94-.94-2.06-.94 2.06-2.06.94zm-11 1L8.5 8.5l.94-2.06 2.06-.94-2.06-.94L8.5 2.5l-.94 2.06-2.06.94zm10 10l.94 2.06.94-2.06 2.06-.94-2.06-.94-.94-2.06-.94 2.06-2.06.94z\"/><path d=\"M17.41 7.96l-1.37-1.37c-.4-.4-.92-.59-1.43-.59-.52 0-1.04.2-1.43.59L10.3 9.45l-7.72 7.72c-.78.78-.78 2.05 0 2.83L4 21.41c.39.39.9.59 1.41.59.51 0 1.02-.2 1.41-.59l7.78-7.78 2.81-2.81c.8-.78.8-2.07 0-2.86zM5.41 20L4 18.59l7.72-7.72 1.47 1.35L5.41 20z\"/>\n",
              "  </svg>\n",
              "      </button>\n",
              "      \n",
              "  <style>\n",
              "    .colab-df-container {\n",
              "      display:flex;\n",
              "      flex-wrap:wrap;\n",
              "      gap: 12px;\n",
              "    }\n",
              "\n",
              "    .colab-df-convert {\n",
              "      background-color: #E8F0FE;\n",
              "      border: none;\n",
              "      border-radius: 50%;\n",
              "      cursor: pointer;\n",
              "      display: none;\n",
              "      fill: #1967D2;\n",
              "      height: 32px;\n",
              "      padding: 0 0 0 0;\n",
              "      width: 32px;\n",
              "    }\n",
              "\n",
              "    .colab-df-convert:hover {\n",
              "      background-color: #E2EBFA;\n",
              "      box-shadow: 0px 1px 2px rgba(60, 64, 67, 0.3), 0px 1px 3px 1px rgba(60, 64, 67, 0.15);\n",
              "      fill: #174EA6;\n",
              "    }\n",
              "\n",
              "    [theme=dark] .colab-df-convert {\n",
              "      background-color: #3B4455;\n",
              "      fill: #D2E3FC;\n",
              "    }\n",
              "\n",
              "    [theme=dark] .colab-df-convert:hover {\n",
              "      background-color: #434B5C;\n",
              "      box-shadow: 0px 1px 3px 1px rgba(0, 0, 0, 0.15);\n",
              "      filter: drop-shadow(0px 1px 2px rgba(0, 0, 0, 0.3));\n",
              "      fill: #FFFFFF;\n",
              "    }\n",
              "  </style>\n",
              "\n",
              "      <script>\n",
              "        const buttonEl =\n",
              "          document.querySelector('#df-79cb9f6d-dfd0-4206-8523-0a478acd0730 button.colab-df-convert');\n",
              "        buttonEl.style.display =\n",
              "          google.colab.kernel.accessAllowed ? 'block' : 'none';\n",
              "\n",
              "        async function convertToInteractive(key) {\n",
              "          const element = document.querySelector('#df-79cb9f6d-dfd0-4206-8523-0a478acd0730');\n",
              "          const dataTable =\n",
              "            await google.colab.kernel.invokeFunction('convertToInteractive',\n",
              "                                                     [key], {});\n",
              "          if (!dataTable) return;\n",
              "\n",
              "          const docLinkHtml = 'Like what you see? Visit the ' +\n",
              "            '<a target=\"_blank\" href=https://colab.research.google.com/notebooks/data_table.ipynb>data table notebook</a>'\n",
              "            + ' to learn more about interactive tables.';\n",
              "          element.innerHTML = '';\n",
              "          dataTable['output_type'] = 'display_data';\n",
              "          await google.colab.output.renderOutput(dataTable, element);\n",
              "          const docLink = document.createElement('div');\n",
              "          docLink.innerHTML = docLinkHtml;\n",
              "          element.appendChild(docLink);\n",
              "        }\n",
              "      </script>\n",
              "    </div>\n",
              "  </div>\n",
              "  "
            ]
          },
          "metadata": {},
          "execution_count": 431
        }
      ]
    },
    {
      "cell_type": "code",
      "source": [
        "data['Open'].plot(figsize=(16,6))\n",
        "data.rolling(window=30).mean()['Close'].plot()"
      ],
      "metadata": {
        "id": "kAmUCnmVJNd4",
        "colab": {
          "base_uri": "https://localhost:8080/",
          "height": 391
        },
        "outputId": "9a615563-f70e-4034-a064-e098d9f47775"
      },
      "execution_count": 432,
      "outputs": [
        {
          "output_type": "execute_result",
          "data": {
            "text/plain": [
              "<matplotlib.axes._subplots.AxesSubplot at 0x7fe2446ee210>"
            ]
          },
          "metadata": {},
          "execution_count": 432
        },
        {
          "output_type": "display_data",
          "data": {
            "text/plain": [
              "<Figure size 1152x432 with 1 Axes>"
            ],
            "image/png": "[encoded data removed]"
          },
          "metadata": {
            "needs_background": "light"
          }
        }
      ]
    },
    {
      "cell_type": "code",
      "source": [
        "data['Close'].expanding(min_periods=1).mean().plot(figsize=(16,6))"
      ],
      "metadata": {
        "id": "l27SseS1KDvj",
        "colab": {
          "base_uri": "https://localhost:8080/",
          "height": 391
        },
        "outputId": "259304c3-7224-46c7-d81d-54fe0160f7a1"
      },
      "execution_count": 433,
      "outputs": [
        {
          "output_type": "execute_result",
          "data": {
            "text/plain": [
              "<matplotlib.axes._subplots.AxesSubplot at 0x7fe2446578d0>"
            ]
          },
          "metadata": {},
          "execution_count": 433
        },
        {
          "output_type": "display_data",
          "data": {
            "text/plain": [
              "<Figure size 1152x432 with 1 Axes>"
            ],
            "image/png": "[encoded data removed]"
          },
          "metadata": {
            "needs_background": "light"
          }
        }
      ]
    },
    {
      "cell_type": "code",
      "source": [
        "#@title Data Preprocessing\n"
      ],
      "metadata": {
        "id": "fzl7aMZBLCR3"
      },
      "execution_count": 434,
      "outputs": []
    },
    {
      "cell_type": "code",
      "source": [
        "data.isna().any()"
      ],
      "metadata": {
        "id": "E7xiYh6WNBkZ",
        "colab": {
          "base_uri": "https://localhost:8080/",
          "height": 0
        },
        "outputId": "55447c40-7364-409d-d6ec-ca40c4a52994"
      },
      "execution_count": 435,
      "outputs": [
        {
          "output_type": "execute_result",
          "data": {
            "text/plain": [
              "Date                    False\n",
              "Open                    False\n",
              "High                    False\n",
              "Low                     False\n",
              "Last                    False\n",
              "Close                   False\n",
              "Total Trade Quantity    False\n",
              "Turnover (Lacs)         False\n",
              "dtype: bool"
            ]
          },
          "metadata": {},
          "execution_count": 435
        }
      ]
    },
    {
      "cell_type": "code",
      "source": [
        "from sklearn.preprocessing import MinMaxScaler\n",
        "sc = MinMaxScaler(feature_range = (0,1))\n",
        "df = sc.fit_transform(np.array(df).reshape(-1,1))\n",
        "df.shape"
      ],
      "metadata": {
        "id": "jAAKRy27LJVp",
        "colab": {
          "base_uri": "https://localhost:8080/",
          "height": 0
        },
        "outputId": "4cf8d78c-764a-4470-f265-22d9d8103336"
      },
      "execution_count": 436,
      "outputs": [
        {
          "output_type": "execute_result",
          "data": {
            "text/plain": [
              "(2035, 1)"
            ]
          },
          "metadata": {},
          "execution_count": 436
        }
      ]
    },
    {
      "cell_type": "code",
      "source": [
        "print(df)"
      ],
      "metadata": {
        "colab": {
          "base_uri": "https://localhost:8080/",
          "height": 0
        },
        "id": "cFqIF8afzdzi",
        "outputId": "0632a22c-ec48-4796-d17b-ef307ea53763"
      },
      "execution_count": 437,
      "outputs": [
        {
          "output_type": "stream",
          "name": "stdout",
          "text": [
            "[[0.6202352 ]\n",
            " [0.62226277]\n",
            " [0.64436334]\n",
            " ...\n",
            " [0.16504461]\n",
            " [0.15896188]\n",
            " [0.16626115]]\n"
          ]
        }
      ]
    },
    {
      "cell_type": "code",
      "source": [
        "training_set = int(len(df)*0.75)\n",
        "testing_set = len(df) - training_set\n",
        "train_data, test_data = df[0 : training_set, :], df[training_set : len(df), :1]\n",
        "training_set, testing_set"
      ],
      "metadata": {
        "colab": {
          "base_uri": "https://localhost:8080/",
          "height": 0
        },
        "id": "fSXR7FU4zpZY",
        "outputId": "d5d06680-b81a-4be6-d92f-923f740e7baa"
      },
      "execution_count": 438,
      "outputs": [
        {
          "output_type": "execute_result",
          "data": {
            "text/plain": [
              "(1526, 509)"
            ]
          },
          "metadata": {},
          "execution_count": 438
        }
      ]
    },
    {
      "cell_type": "code",
      "source": [
        "train_data, test_data"
      ],
      "metadata": {
        "colab": {
          "base_uri": "https://localhost:8080/",
          "height": 0
        },
        "id": "7vUARP7G0f3F",
        "outputId": "85a69354-1ab5-415a-a3a0-52c2160bb075"
      },
      "execution_count": 439,
      "outputs": [
        {
          "output_type": "execute_result",
          "data": {
            "text/plain": [
              "(array([[0.6202352 ],\n",
              "        [0.62226277],\n",
              "        [0.64436334],\n",
              "        ...,\n",
              "        [0.18491484],\n",
              "        [0.15774534],\n",
              "        [0.16180049]]), array([[0.15774534],\n",
              "        [0.15774534],\n",
              "        [0.16991079],\n",
              "        [0.13746959],\n",
              "        [0.14963504],\n",
              "        [0.16605839],\n",
              "        [0.15369019],\n",
              "        [0.14152474],\n",
              "        [0.13341444],\n",
              "        [0.13260341],\n",
              "        [0.12368208],\n",
              "        [0.12246553],\n",
              "        [0.13625304],\n",
              "        [0.11719384],\n",
              "        [0.13746959],\n",
              "        [0.15004055],\n",
              "        [0.15308191],\n",
              "        [0.15794809],\n",
              "        [0.15186537],\n",
              "        [0.14557989],\n",
              "        [0.14497161],\n",
              "        [0.14801298],\n",
              "        [0.14476886],\n",
              "        [0.11719384],\n",
              "        [0.11151663],\n",
              "        [0.10563666],\n",
              "        [0.10218978],\n",
              "        [0.09712084],\n",
              "        [0.09691809],\n",
              "        [0.11131387],\n",
              "        [0.10644769],\n",
              "        [0.11111111],\n",
              "        [0.1202352 ],\n",
              "        [0.11922141],\n",
              "        [0.13219789],\n",
              "        [0.10969181],\n",
              "        [0.11232766],\n",
              "        [0.10097324],\n",
              "        [0.09712084],\n",
              "        [0.09326845],\n",
              "        [0.10948905],\n",
              "        [0.10725872],\n",
              "        [0.11719384],\n",
              "        [0.12530414],\n",
              "        [0.10705596],\n",
              "        [0.11516626],\n",
              "        [0.11111111],\n",
              "        [0.10604217],\n",
              "        [0.10786699],\n",
              "        [0.10117599],\n",
              "        [0.10016221],\n",
              "        [0.11293593],\n",
              "        [0.09144363],\n",
              "        [0.08880779],\n",
              "        [0.10908354],\n",
              "        [0.12550689],\n",
              "        [0.1216545 ],\n",
              "        [0.12550689],\n",
              "        [0.14294404],\n",
              "        [0.14882401],\n",
              "        [0.14882401],\n",
              "        [0.15632603],\n",
              "        [0.1459854 ],\n",
              "        [0.15348743],\n",
              "        [0.14152474],\n",
              "        [0.14030819],\n",
              "        [0.14578264],\n",
              "        [0.15227088],\n",
              "        [0.14781022],\n",
              "        [0.17274939],\n",
              "        [0.18207624],\n",
              "        [0.15733982],\n",
              "        [0.15470397],\n",
              "        [0.15186537],\n",
              "        [0.14821573],\n",
              "        [0.16342255],\n",
              "        [0.1540957 ],\n",
              "        [0.13949716],\n",
              "        [0.14760746],\n",
              "        [0.14517437],\n",
              "        [0.15774534],\n",
              "        [0.1431468 ],\n",
              "        [0.12733171],\n",
              "        [0.11131387],\n",
              "        [0.11313869],\n",
              "        [0.12104623],\n",
              "        [0.11739659],\n",
              "        [0.1311841 ],\n",
              "        [0.13746959],\n",
              "        [0.17396594],\n",
              "        [0.13158962],\n",
              "        [0.11313869],\n",
              "        [0.13300892],\n",
              "        [0.14274128],\n",
              "        [0.16180049],\n",
              "        [0.15429846],\n",
              "        [0.14760746],\n",
              "        [0.15369019],\n",
              "        [0.14801298],\n",
              "        [0.13260341],\n",
              "        [0.13807786],\n",
              "        [0.15794809],\n",
              "        [0.16058394],\n",
              "        [0.17497972],\n",
              "        [0.18187348],\n",
              "        [0.16666667],\n",
              "        [0.13240065],\n",
              "        [0.15369019],\n",
              "        [0.16180049],\n",
              "        [0.14557989],\n",
              "        [0.16545012],\n",
              "        [0.15754258],\n",
              "        [0.1636253 ],\n",
              "        [0.15977291],\n",
              "        [0.16382806],\n",
              "        [0.16342255],\n",
              "        [0.15652879],\n",
              "        [0.17011354],\n",
              "        [0.14760746],\n",
              "        [0.12935929],\n",
              "        [0.14233577],\n",
              "        [0.15774534],\n",
              "        [0.11719384],\n",
              "        [0.11800487],\n",
              "        [0.14152474],\n",
              "        [0.08475264],\n",
              "        [0.06853204],\n",
              "        [0.05636659],\n",
              "        [0.05028386],\n",
              "        [0.04480941],\n",
              "        [0.04825629],\n",
              "        [0.05454177],\n",
              "        [0.0553528 ],\n",
              "        [0.06447689],\n",
              "        [0.07643958],\n",
              "        [0.01987024],\n",
              "        [0.05190592],\n",
              "        [0.04805353],\n",
              "        [0.05494728],\n",
              "        [0.04927007],\n",
              "        [0.05231144],\n",
              "        [0.05231144],\n",
              "        [0.04622871],\n",
              "        [0.05636659],\n",
              "        [0.05616383],\n",
              "        [0.04339011],\n",
              "        [0.03994323],\n",
              "        [0.04014599],\n",
              "        [0.02331711],\n",
              "        [0.02798054],\n",
              "        [0.0324412 ],\n",
              "        [0.03183293],\n",
              "        [0.03974047],\n",
              "        [0.01987024],\n",
              "        [0.02392539],\n",
              "        [0.01662612],\n",
              "        [0.02027575],\n",
              "        [0.03527981],\n",
              "        [0.02189781],\n",
              "        [0.0296026 ],\n",
              "        [0.02128954],\n",
              "        [0.03669911],\n",
              "        [0.0310219 ],\n",
              "        [0.03953771],\n",
              "        [0.04014599],\n",
              "        [0.04298459],\n",
              "        [0.03041363],\n",
              "        [0.01804542],\n",
              "        [0.01155718],\n",
              "        [0.01175994],\n",
              "        [0.00466342],\n",
              "        [0.0052717 ],\n",
              "        [0.        ],\n",
              "        [0.00608273],\n",
              "        [0.00405515],\n",
              "        [0.00567721],\n",
              "        [0.00446067],\n",
              "        [0.01175994],\n",
              "        [0.01946472],\n",
              "        [0.02473642],\n",
              "        [0.03284672],\n",
              "        [0.03345499],\n",
              "        [0.04176805],\n",
              "        [0.0405515 ],\n",
              "        [0.04257908],\n",
              "        [0.0405515 ],\n",
              "        [0.04014599],\n",
              "        [0.04318735],\n",
              "        [0.04136253],\n",
              "        [0.03203569],\n",
              "        [0.02392539],\n",
              "        [0.01824818],\n",
              "        [0.01987024],\n",
              "        [0.01784266],\n",
              "        [0.02372263],\n",
              "        [0.03081914],\n",
              "        [0.03609084],\n",
              "        [0.02879157],\n",
              "        [0.02189781],\n",
              "        [0.02919708],\n",
              "        [0.01987024],\n",
              "        [0.02047851],\n",
              "        [0.00851582],\n",
              "        [0.00587997],\n",
              "        [0.00973236],\n",
              "        [0.013382  ],\n",
              "        [0.01784266],\n",
              "        [0.01520681],\n",
              "        [0.02270884],\n",
              "        [0.03264396],\n",
              "        [0.02676399],\n",
              "        [0.02392539],\n",
              "        [0.0148013 ],\n",
              "        [0.04217356],\n",
              "        [0.04257908],\n",
              "        [0.03892944],\n",
              "        [0.03649635],\n",
              "        [0.04906732],\n",
              "        [0.04622871],\n",
              "        [0.04115977],\n",
              "        [0.04379562],\n",
              "        [0.04420114],\n",
              "        [0.05616383],\n",
              "        [0.05515004],\n",
              "        [0.05636659],\n",
              "        [0.0405515 ],\n",
              "        [0.04521492],\n",
              "        [0.05352798],\n",
              "        [0.05636659],\n",
              "        [0.03994323],\n",
              "        [0.04927007],\n",
              "        [0.04379562],\n",
              "        [0.04744526],\n",
              "        [0.04420114],\n",
              "        [0.03122466],\n",
              "        [0.02007299],\n",
              "        [0.06042174],\n",
              "        [0.06893755],\n",
              "        [0.09184915],\n",
              "        [0.09164639],\n",
              "        [0.10077048],\n",
              "        [0.09610706],\n",
              "        [0.08678021],\n",
              "        [0.08880779],\n",
              "        [0.10948905],\n",
              "        [0.1107056 ],\n",
              "        [0.09164639],\n",
              "        [0.09935118],\n",
              "        [0.10989457],\n",
              "        [0.10827251],\n",
              "        [0.1054339 ],\n",
              "        [0.10056772],\n",
              "        [0.10056772],\n",
              "        [0.09083536],\n",
              "        [0.07765612],\n",
              "        [0.08049473],\n",
              "        [0.08880779],\n",
              "        [0.08941606],\n",
              "        [0.08069749],\n",
              "        [0.09042985],\n",
              "        [0.07866991],\n",
              "        [0.08069749],\n",
              "        [0.09691809],\n",
              "        [0.07704785],\n",
              "        [0.09610706],\n",
              "        [0.09266018],\n",
              "        [0.08982157],\n",
              "        [0.09975669],\n",
              "        [0.07177616],\n",
              "        [0.06853204],\n",
              "        [0.04987835],\n",
              "        [0.05109489],\n",
              "        [0.04805353],\n",
              "        [0.04034874],\n",
              "        [0.04217356],\n",
              "        [0.03730738],\n",
              "        [0.05109489],\n",
              "        [0.05433901],\n",
              "        [0.07137064],\n",
              "        [0.0648824 ],\n",
              "        [0.06812652],\n",
              "        [0.07643958],\n",
              "        [0.08008921],\n",
              "        [0.06042174],\n",
              "        [0.06407137],\n",
              "        [0.07177616],\n",
              "        [0.05961071],\n",
              "        [0.05231144],\n",
              "        [0.04541768],\n",
              "        [0.05231144],\n",
              "        [0.04257908],\n",
              "        [0.02798054],\n",
              "        [0.02696675],\n",
              "        [0.03041363],\n",
              "        [0.01885645],\n",
              "        [0.03000811],\n",
              "        [0.04480941],\n",
              "        [0.06103001],\n",
              "        [0.06650446],\n",
              "        [0.06123277],\n",
              "        [0.06427413],\n",
              "        [0.06650446],\n",
              "        [0.06549067],\n",
              "        [0.07319546],\n",
              "        [0.06853204],\n",
              "        [0.07988646],\n",
              "        [0.07887267],\n",
              "        [0.06853204],\n",
              "        [0.06914031],\n",
              "        [0.06812652],\n",
              "        [0.06812652],\n",
              "        [0.07583131],\n",
              "        [0.07684509],\n",
              "        [0.08069749],\n",
              "        [0.08759124],\n",
              "        [0.09610706],\n",
              "        [0.09894566],\n",
              "        [0.08657745],\n",
              "        [0.08860503],\n",
              "        [0.08272506],\n",
              "        [0.08475264],\n",
              "        [0.07866991],\n",
              "        [0.09083536],\n",
              "        [0.09083536],\n",
              "        [0.08373885],\n",
              "        [0.09549878],\n",
              "        [0.11415247],\n",
              "        [0.10644769],\n",
              "        [0.1040146 ],\n",
              "        [0.10421736],\n",
              "        [0.08069749],\n",
              "        [0.06751825],\n",
              "        [0.0663017 ],\n",
              "        [0.06650446],\n",
              "        [0.07055961],\n",
              "        [0.06934307],\n",
              "        [0.07542579],\n",
              "        [0.06853204],\n",
              "        [0.06873479],\n",
              "        [0.06954582],\n",
              "        [0.07137064],\n",
              "        [0.06934307],\n",
              "        [0.06853204],\n",
              "        [0.07258719],\n",
              "        [0.07542579],\n",
              "        [0.08718573],\n",
              "        [0.06082725],\n",
              "        [0.06001622],\n",
              "        [0.0553528 ],\n",
              "        [0.03203569],\n",
              "        [0.03609084],\n",
              "        [0.03730738],\n",
              "        [0.04014599],\n",
              "        [0.03527981],\n",
              "        [0.02798054],\n",
              "        [0.03000811],\n",
              "        [0.05879968],\n",
              "        [0.06326034],\n",
              "        [0.06042174],\n",
              "        [0.05798865],\n",
              "        [0.08272506],\n",
              "        [0.05961071],\n",
              "        [0.05981346],\n",
              "        [0.05778589],\n",
              "        [0.04602595],\n",
              "        [0.0310219 ],\n",
              "        [0.02879157],\n",
              "        [0.04825629],\n",
              "        [0.06042174],\n",
              "        [0.06731549],\n",
              "        [0.06244931],\n",
              "        [0.06650446],\n",
              "        [0.07177616],\n",
              "        [0.08069749],\n",
              "        [0.07319546],\n",
              "        [0.10097324],\n",
              "        [0.10178427],\n",
              "        [0.10502839],\n",
              "        [0.09529603],\n",
              "        [0.10097324],\n",
              "        [0.0973236 ],\n",
              "        [0.09712084],\n",
              "        [0.10016221],\n",
              "        [0.09813463],\n",
              "        [0.0973236 ],\n",
              "        [0.09205191],\n",
              "        [0.08759124],\n",
              "        [0.09509327],\n",
              "        [0.11192214],\n",
              "        [0.12570965],\n",
              "        [0.12895377],\n",
              "        [0.13037307],\n",
              "        [0.12489862],\n",
              "        [0.11313869],\n",
              "        [0.11111111],\n",
              "        [0.11922141],\n",
              "        [0.11901865],\n",
              "        [0.12043796],\n",
              "        [0.12935929],\n",
              "        [0.12854826],\n",
              "        [0.13341444],\n",
              "        [0.14476886],\n",
              "        [0.14537713],\n",
              "        [0.13746959],\n",
              "        [0.13665856],\n",
              "        [0.13665856],\n",
              "        [0.1311841 ],\n",
              "        [0.13341444],\n",
              "        [0.12327656],\n",
              "        [0.14111922],\n",
              "        [0.13746959],\n",
              "        [0.13990268],\n",
              "        [0.13017032],\n",
              "        [0.14152474],\n",
              "        [0.14111922],\n",
              "        [0.13138686],\n",
              "        [0.12915653],\n",
              "        [0.13098135],\n",
              "        [0.1269262 ],\n",
              "        [0.15166261],\n",
              "        [0.15004055],\n",
              "        [0.14193025],\n",
              "        [0.16017843],\n",
              "        [0.15693431],\n",
              "        [0.16504461],\n",
              "        [0.1770073 ],\n",
              "        [0.18146796],\n",
              "        [0.18815896],\n",
              "        [0.20924574],\n",
              "        [0.19424169],\n",
              "        [0.18106245],\n",
              "        [0.18207624],\n",
              "        [0.1960665 ],\n",
              "        [0.17680454],\n",
              "        [0.18207624],\n",
              "        [0.18004866],\n",
              "        [0.18207624],\n",
              "        [0.18876723],\n",
              "        [0.19383617],\n",
              "        [0.19099757],\n",
              "        [0.19505272],\n",
              "        [0.19809408],\n",
              "        [0.20640714],\n",
              "        [0.19748581],\n",
              "        [0.19525547],\n",
              "        [0.20437956],\n",
              "        [0.19870235],\n",
              "        [0.21796431],\n",
              "        [0.21553122],\n",
              "        [0.20600162],\n",
              "        [0.21654501],\n",
              "        [0.21654501],\n",
              "        [0.2175588 ],\n",
              "        [0.19870235],\n",
              "        [0.19018654],\n",
              "        [0.17802109],\n",
              "        [0.175588  ],\n",
              "        [0.16301703],\n",
              "        [0.16707218],\n",
              "        [0.17112733],\n",
              "        [0.17639903],\n",
              "        [0.18349554],\n",
              "        [0.1717356 ],\n",
              "        [0.16423358],\n",
              "        [0.16991079],\n",
              "        [0.17619627],\n",
              "        [0.16788321],\n",
              "        [0.16909976],\n",
              "        [0.17396594],\n",
              "        [0.17741281],\n",
              "        [0.18268451],\n",
              "        [0.19221411],\n",
              "        [0.18896999],\n",
              "        [0.19018654],\n",
              "        [0.17396594],\n",
              "        [0.17092457],\n",
              "        [0.16788321],\n",
              "        [0.17477697],\n",
              "        [0.16443633],\n",
              "        [0.14557989],\n",
              "        [0.15287916],\n",
              "        [0.15369019],\n",
              "        [0.15044607],\n",
              "        [0.14152474],\n",
              "        [0.15145985],\n",
              "        [0.13341444],\n",
              "        [0.12530414],\n",
              "        [0.11719384],\n",
              "        [0.11780211],\n",
              "        [0.12489862],\n",
              "        [0.14132198],\n",
              "        [0.13098135],\n",
              "        [0.12935929],\n",
              "        [0.13240065],\n",
              "        [0.12895377],\n",
              "        [0.12530414],\n",
              "        [0.13381995],\n",
              "        [0.14557989],\n",
              "        [0.15166261],\n",
              "        [0.15085158],\n",
              "        [0.14679643],\n",
              "        [0.14355231],\n",
              "        [0.12733171],\n",
              "        [0.14963504],\n",
              "        [0.14801298],\n",
              "        [0.15815085],\n",
              "        [0.16504461],\n",
              "        [0.15896188],\n",
              "        [0.16626115]]))"
            ]
          },
          "metadata": {},
          "execution_count": 439
        }
      ]
    },
    {
      "cell_type": "code",
      "source": [
        "def create_dataset(dataset, time_step=1):\n",
        "   train_X, train_Y = [], [] \n",
        "   for i in range(len(dataset)-time_step-1): \n",
        "       a = dataset[i:(i+time_step), 0]\n",
        "       train_X.append(a)\n",
        "       train_Y.append(dataset[i+time_step, 0]) \n",
        "   return np.array(train_X), np.array(train_Y)"
      ],
      "metadata": {
        "id": "66t53JnaTxkU"
      },
      "execution_count": 440,
      "outputs": []
    },
    {
      "cell_type": "code",
      "source": [
        "time_step = 100\n",
        "x_train, y_train = create_dataset(train_data, time_step)\n",
        "x_test, y_test = create_dataset(test_data, time_step)"
      ],
      "metadata": {
        "id": "wKMoQS6CNMMY"
      },
      "execution_count": 441,
      "outputs": []
    },
    {
      "cell_type": "code",
      "source": [
        "x_train = x_train.reshape(x_train.shape[0], x_train.shape[1], 1)\n",
        "x_test = x_test.reshape(x_test.shape[0], x_test.shape[1], 1)\n",
        "print(x_train.shape), print(y_train.shape)"
      ],
      "metadata": {
        "id": "nvgmmAlKL21l",
        "colab": {
          "base_uri": "https://localhost:8080/",
          "height": 0
        },
        "outputId": "839391f6-c248-497b-a5e9-81c169831276"
      },
      "execution_count": 442,
      "outputs": [
        {
          "output_type": "stream",
          "name": "stdout",
          "text": [
            "(1425, 100, 1)\n",
            "(1425,)\n"
          ]
        },
        {
          "output_type": "execute_result",
          "data": {
            "text/plain": [
              "(None, None)"
            ]
          },
          "metadata": {},
          "execution_count": 442
        }
      ]
    },
    {
      "cell_type": "code",
      "source": [
        "from keras.models import Sequential\n",
        "from keras.layers import Dense\n",
        "from keras.layers import LSTM\n",
        "from keras.layers import Dropout"
      ],
      "metadata": {
        "id": "ujN5VL00UhGm"
      },
      "execution_count": 443,
      "outputs": []
    },
    {
      "cell_type": "code",
      "source": [
        "regressor = Sequential()"
      ],
      "metadata": {
        "id": "0Kk1jYNqU_-9"
      },
      "execution_count": 444,
      "outputs": []
    },
    {
      "cell_type": "code",
      "source": [
        "regressor.add(LSTM(units=50, return_sequences = True, input_shape=(100, 1)))\n",
        "\n",
        "regressor.add(LSTM(units=50, return_sequences = True))\n",
        "\n",
        "regressor.add(LSTM(units=50))\n",
        "\n",
        "regressor.add(Dense(units = 1))"
      ],
      "metadata": {
        "id": "JxrWOst6VEI_"
      },
      "execution_count": 445,
      "outputs": []
    },
    {
      "cell_type": "code",
      "source": [
        "regressor.compile(optimizer = 'adam', loss = 'mean_squared_error')"
      ],
      "metadata": {
        "id": "OBlZVi4_VUGG"
      },
      "execution_count": 446,
      "outputs": []
    },
    {
      "cell_type": "code",
      "source": [
        "regressor.summary()"
      ],
      "metadata": {
        "colab": {
          "base_uri": "https://localhost:8080/",
          "height": 0
        },
        "id": "8JC-K873WHcj",
        "outputId": "2a268e5c-bf32-4a70-9f93-23a2b6668fb3"
      },
      "execution_count": 447,
      "outputs": [
        {
          "output_type": "stream",
          "name": "stdout",
          "text": [
            "Model: \"sequential_9\"\n",
            "_________________________________________________________________\n",
            " Layer (type)                Output Shape              Param #   \n",
            "=================================================================\n",
            " lstm_15 (LSTM)              (None, 100, 50)           10400     \n",
            "                                                                 \n",
            " lstm_16 (LSTM)              (None, 100, 50)           20200     \n",
            "                                                                 \n",
            " lstm_17 (LSTM)              (None, 50)                20200     \n",
            "                                                                 \n",
            " dense_3 (Dense)             (None, 1)                 51        \n",
            "                                                                 \n",
            "=================================================================\n",
            "Total params: 50,851\n",
            "Trainable params: 50,851\n",
            "Non-trainable params: 0\n",
            "_________________________________________________________________\n"
          ]
        }
      ]
    },
    {
      "cell_type": "code",
      "source": [
        "regressor.fit(x_train, y_train, validation_data = (x_test, y_test), epochs = 100, batch_size = 64, verbose = 1)"
      ],
      "metadata": {
        "colab": {
          "base_uri": "https://localhost:8080/",
          "height": 0
        },
        "id": "6K4wVVDIWLBB",
        "outputId": "18359878-0a8b-4f1a-97dd-562c861fce74"
      },
      "execution_count": 448,
      "outputs": [
        {
          "output_type": "stream",
          "name": "stdout",
          "text": [
            "Epoch 1/100\n",
            "23/23 [==============================] - 97s 4s/step - loss: 0.0273 - val_loss: 0.0090\n",
            "Epoch 2/100\n",
            "23/23 [==============================] - 4s 171ms/step - loss: 0.0027 - val_loss: 9.5022e-04\n",
            "Epoch 3/100\n",
            "23/23 [==============================] - 4s 176ms/step - loss: 0.0016 - val_loss: 0.0016\n",
            "Epoch 4/100\n",
            "23/23 [==============================] - 4s 175ms/step - loss: 0.0015 - val_loss: 0.0012\n",
            "Epoch 5/100\n",
            "23/23 [==============================] - 4s 172ms/step - loss: 0.0015 - val_loss: 0.0011\n",
            "Epoch 6/100\n",
            "23/23 [==============================] - 5s 237ms/step - loss: 0.0014 - val_loss: 0.0013\n",
            "Epoch 7/100\n",
            "23/23 [==============================] - 4s 194ms/step - loss: 0.0012 - val_loss: 9.5284e-04\n",
            "Epoch 8/100\n",
            "23/23 [==============================] - 4s 168ms/step - loss: 0.0012 - val_loss: 0.0011\n",
            "Epoch 9/100\n",
            "23/23 [==============================] - 4s 179ms/step - loss: 0.0013 - val_loss: 7.1121e-04\n",
            "Epoch 10/100\n",
            "23/23 [==============================] - 4s 180ms/step - loss: 0.0011 - val_loss: 8.0504e-04\n",
            "Epoch 11/100\n",
            "23/23 [==============================] - 4s 169ms/step - loss: 9.8895e-04 - val_loss: 9.5238e-04\n",
            "Epoch 12/100\n",
            "23/23 [==============================] - 4s 176ms/step - loss: 9.6325e-04 - val_loss: 9.5142e-04\n",
            "Epoch 13/100\n",
            "23/23 [==============================] - 4s 175ms/step - loss: 9.6234e-04 - val_loss: 9.3440e-04\n",
            "Epoch 14/100\n",
            "23/23 [==============================] - 4s 172ms/step - loss: 9.7561e-04 - val_loss: 8.5119e-04\n",
            "Epoch 15/100\n",
            "23/23 [==============================] - 4s 180ms/step - loss: 9.4994e-04 - val_loss: 9.9630e-04\n",
            "Epoch 16/100\n",
            "23/23 [==============================] - 4s 177ms/step - loss: 8.4146e-04 - val_loss: 8.0181e-04\n",
            "Epoch 17/100\n",
            "23/23 [==============================] - 4s 174ms/step - loss: 8.1944e-04 - val_loss: 8.6922e-04\n",
            "Epoch 18/100\n",
            "23/23 [==============================] - 4s 173ms/step - loss: 8.4862e-04 - val_loss: 9.5523e-04\n",
            "Epoch 19/100\n",
            "23/23 [==============================] - 4s 173ms/step - loss: 8.0548e-04 - val_loss: 7.3121e-04\n",
            "Epoch 20/100\n",
            "23/23 [==============================] - 4s 174ms/step - loss: 8.1134e-04 - val_loss: 8.0145e-04\n",
            "Epoch 21/100\n",
            "23/23 [==============================] - 4s 167ms/step - loss: 7.5134e-04 - val_loss: 8.5174e-04\n",
            "Epoch 22/100\n",
            "23/23 [==============================] - 4s 181ms/step - loss: 8.7718e-04 - val_loss: 9.9889e-04\n",
            "Epoch 23/100\n",
            "23/23 [==============================] - 4s 176ms/step - loss: 7.4291e-04 - val_loss: 9.8020e-04\n",
            "Epoch 24/100\n",
            "23/23 [==============================] - 4s 197ms/step - loss: 7.1360e-04 - val_loss: 8.0700e-04\n",
            "Epoch 25/100\n",
            "23/23 [==============================] - 4s 171ms/step - loss: 6.9101e-04 - val_loss: 8.2321e-04\n",
            "Epoch 26/100\n",
            "23/23 [==============================] - 4s 175ms/step - loss: 6.6847e-04 - val_loss: 9.0253e-04\n",
            "Epoch 27/100\n",
            "23/23 [==============================] - 4s 173ms/step - loss: 6.9709e-04 - val_loss: 8.5316e-04\n",
            "Epoch 28/100\n",
            "23/23 [==============================] - 4s 170ms/step - loss: 6.8220e-04 - val_loss: 7.8097e-04\n",
            "Epoch 29/100\n",
            "23/23 [==============================] - 4s 171ms/step - loss: 6.3405e-04 - val_loss: 7.5070e-04\n",
            "Epoch 30/100\n",
            "23/23 [==============================] - 4s 169ms/step - loss: 6.2786e-04 - val_loss: 6.6576e-04\n",
            "Epoch 31/100\n",
            "23/23 [==============================] - 4s 174ms/step - loss: 6.1150e-04 - val_loss: 7.1772e-04\n",
            "Epoch 32/100\n",
            "23/23 [==============================] - 4s 170ms/step - loss: 6.2480e-04 - val_loss: 6.7545e-04\n",
            "Epoch 33/100\n",
            "23/23 [==============================] - 5s 205ms/step - loss: 6.1621e-04 - val_loss: 6.4496e-04\n",
            "Epoch 34/100\n",
            "23/23 [==============================] - 4s 176ms/step - loss: 6.2027e-04 - val_loss: 6.4519e-04\n",
            "Epoch 35/100\n",
            "23/23 [==============================] - 4s 168ms/step - loss: 6.4675e-04 - val_loss: 6.0584e-04\n",
            "Epoch 36/100\n",
            "23/23 [==============================] - 4s 169ms/step - loss: 6.4283e-04 - val_loss: 6.8091e-04\n",
            "Epoch 37/100\n",
            "23/23 [==============================] - 4s 169ms/step - loss: 5.5267e-04 - val_loss: 5.9158e-04\n",
            "Epoch 38/100\n",
            "23/23 [==============================] - 4s 174ms/step - loss: 6.6315e-04 - val_loss: 5.8507e-04\n",
            "Epoch 39/100\n",
            "23/23 [==============================] - 4s 173ms/step - loss: 5.2150e-04 - val_loss: 6.9010e-04\n",
            "Epoch 40/100\n",
            "23/23 [==============================] - 4s 169ms/step - loss: 5.9139e-04 - val_loss: 7.9262e-04\n",
            "Epoch 41/100\n",
            "23/23 [==============================] - 4s 177ms/step - loss: 5.4745e-04 - val_loss: 5.6078e-04\n",
            "Epoch 42/100\n",
            "23/23 [==============================] - 4s 172ms/step - loss: 4.7989e-04 - val_loss: 4.5634e-04\n",
            "Epoch 43/100\n",
            "23/23 [==============================] - 4s 167ms/step - loss: 5.2720e-04 - val_loss: 6.3226e-04\n",
            "Epoch 44/100\n",
            "23/23 [==============================] - 4s 171ms/step - loss: 5.0224e-04 - val_loss: 6.7950e-04\n",
            "Epoch 45/100\n",
            "23/23 [==============================] - 4s 172ms/step - loss: 4.9159e-04 - val_loss: 4.7089e-04\n",
            "Epoch 46/100\n",
            "23/23 [==============================] - 4s 174ms/step - loss: 4.6085e-04 - val_loss: 5.0073e-04\n",
            "Epoch 47/100\n",
            "23/23 [==============================] - 4s 171ms/step - loss: 4.8869e-04 - val_loss: 7.6278e-04\n",
            "Epoch 48/100\n",
            "23/23 [==============================] - 4s 175ms/step - loss: 5.3191e-04 - val_loss: 4.3663e-04\n",
            "Epoch 49/100\n",
            "23/23 [==============================] - 4s 169ms/step - loss: 4.5067e-04 - val_loss: 4.3814e-04\n",
            "Epoch 50/100\n",
            "23/23 [==============================] - 4s 172ms/step - loss: 4.2965e-04 - val_loss: 6.6707e-04\n",
            "Epoch 51/100\n",
            "23/23 [==============================] - 4s 174ms/step - loss: 5.0387e-04 - val_loss: 7.4335e-04\n",
            "Epoch 52/100\n",
            "23/23 [==============================] - 4s 178ms/step - loss: 4.5346e-04 - val_loss: 5.3859e-04\n",
            "Epoch 53/100\n",
            "23/23 [==============================] - 4s 170ms/step - loss: 3.9838e-04 - val_loss: 4.0836e-04\n",
            "Epoch 54/100\n",
            "23/23 [==============================] - 4s 171ms/step - loss: 4.0167e-04 - val_loss: 3.6171e-04\n",
            "Epoch 55/100\n",
            "23/23 [==============================] - 4s 173ms/step - loss: 4.0724e-04 - val_loss: 4.3373e-04\n",
            "Epoch 56/100\n",
            "23/23 [==============================] - 5s 199ms/step - loss: 3.8727e-04 - val_loss: 5.0567e-04\n",
            "Epoch 57/100\n",
            "23/23 [==============================] - 4s 176ms/step - loss: 3.7432e-04 - val_loss: 3.9152e-04\n",
            "Epoch 58/100\n",
            "23/23 [==============================] - 4s 177ms/step - loss: 3.7527e-04 - val_loss: 3.5753e-04\n",
            "Epoch 59/100\n",
            "23/23 [==============================] - 4s 168ms/step - loss: 3.4124e-04 - val_loss: 4.3917e-04\n",
            "Epoch 60/100\n",
            "23/23 [==============================] - 4s 174ms/step - loss: 3.6824e-04 - val_loss: 3.6788e-04\n",
            "Epoch 61/100\n",
            "23/23 [==============================] - 4s 177ms/step - loss: 3.6620e-04 - val_loss: 2.9450e-04\n",
            "Epoch 62/100\n",
            "23/23 [==============================] - 4s 175ms/step - loss: 3.3902e-04 - val_loss: 4.5170e-04\n",
            "Epoch 63/100\n",
            "23/23 [==============================] - 4s 170ms/step - loss: 3.7394e-04 - val_loss: 3.0856e-04\n",
            "Epoch 64/100\n",
            "23/23 [==============================] - 4s 179ms/step - loss: 3.0426e-04 - val_loss: 2.7096e-04\n",
            "Epoch 65/100\n",
            "23/23 [==============================] - 4s 180ms/step - loss: 3.2896e-04 - val_loss: 2.9499e-04\n",
            "Epoch 66/100\n",
            "23/23 [==============================] - 4s 173ms/step - loss: 3.5603e-04 - val_loss: 2.9008e-04\n",
            "Epoch 67/100\n",
            "23/23 [==============================] - 4s 173ms/step - loss: 3.7866e-04 - val_loss: 3.2441e-04\n",
            "Epoch 68/100\n",
            "23/23 [==============================] - 4s 172ms/step - loss: 3.0789e-04 - val_loss: 2.5628e-04\n",
            "Epoch 69/100\n",
            "23/23 [==============================] - 4s 176ms/step - loss: 4.2254e-04 - val_loss: 5.1800e-04\n",
            "Epoch 70/100\n",
            "23/23 [==============================] - 4s 176ms/step - loss: 5.0131e-04 - val_loss: 2.5700e-04\n",
            "Epoch 71/100\n",
            "23/23 [==============================] - 4s 173ms/step - loss: 3.7970e-04 - val_loss: 2.4700e-04\n",
            "Epoch 72/100\n",
            "23/23 [==============================] - 4s 170ms/step - loss: 3.3398e-04 - val_loss: 2.6297e-04\n",
            "Epoch 73/100\n",
            "23/23 [==============================] - 6s 245ms/step - loss: 3.1214e-04 - val_loss: 3.4339e-04\n",
            "Epoch 74/100\n",
            "23/23 [==============================] - 4s 175ms/step - loss: 3.4973e-04 - val_loss: 3.2571e-04\n",
            "Epoch 75/100\n",
            "23/23 [==============================] - 4s 178ms/step - loss: 2.8766e-04 - val_loss: 2.7932e-04\n",
            "Epoch 76/100\n",
            "23/23 [==============================] - 4s 170ms/step - loss: 2.8660e-04 - val_loss: 3.4031e-04\n",
            "Epoch 77/100\n",
            "23/23 [==============================] - 4s 176ms/step - loss: 2.6647e-04 - val_loss: 2.8270e-04\n",
            "Epoch 78/100\n",
            "23/23 [==============================] - 4s 176ms/step - loss: 2.9648e-04 - val_loss: 3.2829e-04\n",
            "Epoch 79/100\n",
            "23/23 [==============================] - 4s 177ms/step - loss: 2.8212e-04 - val_loss: 3.2605e-04\n",
            "Epoch 80/100\n",
            "23/23 [==============================] - 4s 170ms/step - loss: 2.8658e-04 - val_loss: 2.8424e-04\n",
            "Epoch 81/100\n",
            "23/23 [==============================] - 4s 169ms/step - loss: 2.6738e-04 - val_loss: 3.1527e-04\n",
            "Epoch 82/100\n",
            "23/23 [==============================] - 4s 176ms/step - loss: 2.7404e-04 - val_loss: 2.8896e-04\n",
            "Epoch 83/100\n",
            "23/23 [==============================] - 4s 176ms/step - loss: 2.7906e-04 - val_loss: 4.2859e-04\n",
            "Epoch 84/100\n",
            "23/23 [==============================] - 4s 176ms/step - loss: 2.6781e-04 - val_loss: 2.8638e-04\n",
            "Epoch 85/100\n",
            "23/23 [==============================] - 4s 170ms/step - loss: 2.8534e-04 - val_loss: 4.0994e-04\n",
            "Epoch 86/100\n",
            "23/23 [==============================] - 4s 171ms/step - loss: 2.6952e-04 - val_loss: 2.7878e-04\n",
            "Epoch 87/100\n",
            "23/23 [==============================] - 4s 171ms/step - loss: 2.5081e-04 - val_loss: 3.3951e-04\n",
            "Epoch 88/100\n",
            "23/23 [==============================] - 4s 172ms/step - loss: 2.5897e-04 - val_loss: 2.6685e-04\n",
            "Epoch 89/100\n",
            "23/23 [==============================] - 4s 172ms/step - loss: 3.4628e-04 - val_loss: 4.7602e-04\n",
            "Epoch 90/100\n",
            "23/23 [==============================] - 4s 174ms/step - loss: 3.0518e-04 - val_loss: 2.3419e-04\n",
            "Epoch 91/100\n",
            "23/23 [==============================] - 4s 175ms/step - loss: 3.2236e-04 - val_loss: 3.7705e-04\n",
            "Epoch 92/100\n",
            "23/23 [==============================] - 4s 172ms/step - loss: 3.0230e-04 - val_loss: 2.7237e-04\n",
            "Epoch 93/100\n",
            "23/23 [==============================] - 4s 180ms/step - loss: 2.3946e-04 - val_loss: 2.0688e-04\n",
            "Epoch 94/100\n",
            "23/23 [==============================] - 4s 176ms/step - loss: 3.3612e-04 - val_loss: 2.2918e-04\n",
            "Epoch 95/100\n",
            "23/23 [==============================] - 4s 175ms/step - loss: 2.5233e-04 - val_loss: 2.1038e-04\n",
            "Epoch 96/100\n",
            "23/23 [==============================] - 4s 173ms/step - loss: 2.5186e-04 - val_loss: 2.7297e-04\n",
            "Epoch 97/100\n",
            "23/23 [==============================] - 4s 172ms/step - loss: 2.4028e-04 - val_loss: 2.6198e-04\n",
            "Epoch 98/100\n",
            "23/23 [==============================] - 4s 170ms/step - loss: 2.3748e-04 - val_loss: 2.4875e-04\n",
            "Epoch 99/100\n",
            "23/23 [==============================] - 4s 175ms/step - loss: 2.6647e-04 - val_loss: 1.9859e-04\n",
            "Epoch 100/100\n",
            "23/23 [==============================] - 4s 171ms/step - loss: 3.0095e-04 - val_loss: 4.4423e-04\n"
          ]
        },
        {
          "output_type": "execute_result",
          "data": {
            "text/plain": [
              "<keras.callbacks.History at 0x7fe24447c890>"
            ]
          },
          "metadata": {},
          "execution_count": 448
        }
      ]
    },
    {
      "cell_type": "code",
      "source": [
        "train_predict = regressor.predict(x_train)\n",
        "test_predict =  regressor.predict(x_test)"
      ],
      "metadata": {
        "id": "4yG9fEvQXC7p"
      },
      "execution_count": 449,
      "outputs": []
    },
    {
      "cell_type": "code",
      "source": [
        "train_predict = sc.inverse_transform(train_predict)\n",
        "test_predict = sc.inverse_transform(test_predict)\n",
        "print('RMSE performance matrices : ', math.sqrt(mean_squared_error(y_train, train_predict)))"
      ],
      "metadata": {
        "colab": {
          "base_uri": "https://localhost:8080/",
          "height": 0
        },
        "id": "Ql6y34iRZjGn",
        "outputId": "23453871-4c6d-48a0-f956-5f34337dc365"
      },
      "execution_count": 450,
      "outputs": [
        {
          "output_type": "stream",
          "name": "stdout",
          "text": [
            "RMSE performance matrices :  167.7329571874687\n"
          ]
        }
      ]
    },
    {
      "cell_type": "code",
      "source": [
        "print(\"Test data RMSE : \",math.sqrt(mean_squared_error(y_test, test_predict)))"
      ],
      "metadata": {
        "colab": {
          "base_uri": "https://localhost:8080/",
          "height": 0
        },
        "id": "5I5FZk9saVQ5",
        "outputId": "9bf8a5a3-4fcc-4bd9-bb72-a761c60ce563"
      },
      "execution_count": 451,
      "outputs": [
        {
          "output_type": "stream",
          "name": "stdout",
          "text": [
            "Test data RMSE :  108.76072022113817\n"
          ]
        }
      ]
    },
    {
      "cell_type": "code",
      "source": [
        "look_back = 100\n",
        "trainPredictPlot = np.empty_like(df)\n",
        "trainPredictPlot[:,:] = np.nan\n",
        "trainPredictPlot[look_back:len(train_predict) + look_back, :] = train_predict\n",
        "                                                 \n",
        "testPredictPlot = np.empty_like(df)\n",
        "testPredictPlot[:,:] = np.nan\n",
        "testPredictPlot[len(train_predict) + (look_back * 2)+1:len(df) - 1, :] = test_predict"
      ],
      "metadata": {
        "id": "RA6penBFeHMr"
      },
      "execution_count": 458,
      "outputs": []
    },
    {
      "cell_type": "code",
      "source": [
        "plt.subplots(figsize=(16,6))\n",
        "plt.plot(sc.inverse_transform(df))"
      ],
      "metadata": {
        "colab": {
          "base_uri": "https://localhost:8080/",
          "height": 391
        },
        "id": "lB6_u0jsetBM",
        "outputId": "5c25ada9-b9b4-48e0-9ecf-c6343e254cf6"
      },
      "execution_count": 461,
      "outputs": [
        {
          "output_type": "execute_result",
          "data": {
            "text/plain": [
              "[<matplotlib.lines.Line2D at 0x7fe256b70790>]"
            ]
          },
          "metadata": {},
          "execution_count": 461
        },
        {
          "output_type": "display_data",
          "data": {
            "text/plain": [
              "<Figure size 1152x432 with 1 Axes>"
            ],
            "image/png": "[encoded data removed]"
          },
          "metadata": {
            "needs_background": "light"
          }
        }
      ]
    },
    {
      "cell_type": "code",
      "source": [
        "plt.subplots(figsize=(16,6))\n",
        "plt.plot(trainPredictPlot, color='red')\n",
        "plt.plot(testPredictPlot, color='yellow')"
      ],
      "metadata": {
        "colab": {
          "base_uri": "https://localhost:8080/",
          "height": 391
        },
        "id": "SHcPmOdaftR7",
        "outputId": "5c03990a-8e6a-45eb-e6db-12654776b443"
      },
      "execution_count": 474,
      "outputs": [
        {
          "output_type": "execute_result",
          "data": {
            "text/plain": [
              "[<matplotlib.lines.Line2D at 0x7fe250aa3910>]"
            ]
          },
          "metadata": {},
          "execution_count": 474
        },
        {
          "output_type": "display_data",
          "data": {
            "text/plain": [
              "<Figure size 1152x432 with 1 Axes>"
            ],
            "image/png": "[encoded data removed]"
          },
          "metadata": {
            "needs_background": "light"
          }
        }
      ]
    },
    {
      "cell_type": "code",
      "source": [
        "plt.subplots(figsize=(16,6))\n",
        "plt.plot(sc.inverse_transform(df))\n",
        "plt.plot(trainPredictPlot, color='red')\n",
        "plt.plot(testPredictPlot, color='yellow')"
      ],
      "metadata": {
        "colab": {
          "base_uri": "https://localhost:8080/",
          "height": 391
        },
        "id": "u5eUog3-gLPl",
        "outputId": "64fb127b-d206-4f13-ad09-fe9bb1c8d277"
      },
      "execution_count": 477,
      "outputs": [
        {
          "output_type": "execute_result",
          "data": {
            "text/plain": [
              "[<matplotlib.lines.Line2D at 0x7fe2509876d0>]"
            ]
          },
          "metadata": {},
          "execution_count": 477
        },
        {
          "output_type": "display_data",
          "data": {
            "text/plain": [
              "<Figure size 1152x432 with 1 Axes>"
            ],
            "image/png": "[encoded data removed]"
          },
          "metadata": {
            "needs_background": "light"
          }
        }
      ]
    },
    {
      "cell_type": "code",
      "source": [
        "print(len(test_data))"
      ],
      "metadata": {
        "colab": {
          "base_uri": "https://localhost:8080/",
          "height": 0
        },
        "id": "OzVTBKfBppux",
        "outputId": "33476bd8-99ae-40df-cad6-a460efb21eaa"
      },
      "execution_count": 478,
      "outputs": [
        {
          "output_type": "stream",
          "name": "stdout",
          "text": [
            "509\n"
          ]
        }
      ]
    },
    {
      "cell_type": "code",
      "source": [
        "test_data.shape"
      ],
      "metadata": {
        "colab": {
          "base_uri": "https://localhost:8080/",
          "height": 0
        },
        "id": "n2wWsedXpzC8",
        "outputId": "570b9c9e-ad50-4486-e2af-87cb33b8a32e"
      },
      "execution_count": 479,
      "outputs": [
        {
          "output_type": "execute_result",
          "data": {
            "text/plain": [
              "(509, 1)"
            ]
          },
          "metadata": {},
          "execution_count": 479
        }
      ]
    },
    {
      "cell_type": "code",
      "source": [
        "#past 100 days\n",
        "x_ip = test_data[409:].reshape(1,-1)\n",
        "x_ip.shape"
      ],
      "metadata": {
        "colab": {
          "base_uri": "https://localhost:8080/",
          "height": 0
        },
        "id": "PscX6bm5p1iU",
        "outputId": "3e0034d9-1d08-4c3a-8f72-040e3d15fc4f"
      },
      "execution_count": 481,
      "outputs": [
        {
          "output_type": "execute_result",
          "data": {
            "text/plain": [
              "(1, 100)"
            ]
          },
          "metadata": {},
          "execution_count": 481
        }
      ]
    },
    {
      "cell_type": "code",
      "source": [
        "temp_ip = list(x_ip)\n",
        "temp_ip = temp_ip[0].tolist()"
      ],
      "metadata": {
        "id": "VAlmCfYaqEH1"
      },
      "execution_count": 482,
      "outputs": []
    },
    {
      "cell_type": "code",
      "source": [
        "lst_output=[]\n",
        "n_steps=100\n",
        "future_Days=15\n",
        "i=0\n",
        "while(i<future_Days):\n",
        "  if(len(temp_ip)>100):\n",
        "    x_ip=np.array(temp_ip[1:])\n",
        "    print(\"Day {} input {}\".format(i,x_ip))\n",
        "\n",
        "    x_ip = x_ip.reshape(1,-1)\n",
        "    x_ip = x_ip.reshape((1, n_steps, 1))\n",
        "    yhat = regressor.predict(x_ip, verbose=0)\n",
        "    print(\"Day {} output{}\\n\".format(i,yhat))\n",
        "\n",
        "    temp_ip.extend(yhat[0].tolist())\n",
        "    temp_ip = temp_ip[1:]\n",
        "    lst_output.extend(yhat.tolist())\n",
        "    i=i+1\n",
        "  else:\n",
        "    x_ip = x_ip.reshape((1, n_steps,1))  \n",
        "    yhat = regressor.predict(x_ip, verbose=0)\n",
        "    print(yhat[0])\n",
        "    temp_ip.extend(yhat[0].tolist())\n",
        "    print(len(temp_ip))\n",
        "    lst_output.extend(yhat.tolist())\n",
        "    i=i+1"
      ],
      "metadata": {
        "colab": {
          "base_uri": "https://localhost:8080/",
          "height": 0
        },
        "id": "gtc_fKd4qTsg",
        "outputId": "4bf54d17-5a00-4439-c739-ef4ac824413d"
      },
      "execution_count": 483,
      "outputs": [
        {
          "output_type": "stream",
          "name": "stdout",
          "text": [
            "[0.17785196]\n",
            "101\n",
            "Day 1 input [0.13746959 0.13990268 0.13017032 0.14152474 0.14111922 0.13138686\n",
            " 0.12915653 0.13098135 0.1269262  0.15166261 0.15004055 0.14193025\n",
            " 0.16017843 0.15693431 0.16504461 0.1770073  0.18146796 0.18815896\n",
            " 0.20924574 0.19424169 0.18106245 0.18207624 0.1960665  0.17680454\n",
            " 0.18207624 0.18004866 0.18207624 0.18876723 0.19383617 0.19099757\n",
            " 0.19505272 0.19809408 0.20640714 0.19748581 0.19525547 0.20437956\n",
            " 0.19870235 0.21796431 0.21553122 0.20600162 0.21654501 0.21654501\n",
            " 0.2175588  0.19870235 0.19018654 0.17802109 0.175588   0.16301703\n",
            " 0.16707218 0.17112733 0.17639903 0.18349554 0.1717356  0.16423358\n",
            " 0.16991079 0.17619627 0.16788321 0.16909976 0.17396594 0.17741281\n",
            " 0.18268451 0.19221411 0.18896999 0.19018654 0.17396594 0.17092457\n",
            " 0.16788321 0.17477697 0.16443633 0.14557989 0.15287916 0.15369019\n",
            " 0.15044607 0.14152474 0.15145985 0.13341444 0.12530414 0.11719384\n",
            " 0.11780211 0.12489862 0.14132198 0.13098135 0.12935929 0.13240065\n",
            " 0.12895377 0.12530414 0.13381995 0.14557989 0.15166261 0.15085158\n",
            " 0.14679643 0.14355231 0.12733171 0.14963504 0.14801298 0.15815085\n",
            " 0.16504461 0.15896188 0.16626115 0.17785196]\n",
            "Day 1 output[[0.18358697]]\n",
            "\n",
            "Day 2 input [0.13990268 0.13017032 0.14152474 0.14111922 0.13138686 0.12915653\n",
            " 0.13098135 0.1269262  0.15166261 0.15004055 0.14193025 0.16017843\n",
            " 0.15693431 0.16504461 0.1770073  0.18146796 0.18815896 0.20924574\n",
            " 0.19424169 0.18106245 0.18207624 0.1960665  0.17680454 0.18207624\n",
            " 0.18004866 0.18207624 0.18876723 0.19383617 0.19099757 0.19505272\n",
            " 0.19809408 0.20640714 0.19748581 0.19525547 0.20437956 0.19870235\n",
            " 0.21796431 0.21553122 0.20600162 0.21654501 0.21654501 0.2175588\n",
            " 0.19870235 0.19018654 0.17802109 0.175588   0.16301703 0.16707218\n",
            " 0.17112733 0.17639903 0.18349554 0.1717356  0.16423358 0.16991079\n",
            " 0.17619627 0.16788321 0.16909976 0.17396594 0.17741281 0.18268451\n",
            " 0.19221411 0.18896999 0.19018654 0.17396594 0.17092457 0.16788321\n",
            " 0.17477697 0.16443633 0.14557989 0.15287916 0.15369019 0.15044607\n",
            " 0.14152474 0.15145985 0.13341444 0.12530414 0.11719384 0.11780211\n",
            " 0.12489862 0.14132198 0.13098135 0.12935929 0.13240065 0.12895377\n",
            " 0.12530414 0.13381995 0.14557989 0.15166261 0.15085158 0.14679643\n",
            " 0.14355231 0.12733171 0.14963504 0.14801298 0.15815085 0.16504461\n",
            " 0.15896188 0.16626115 0.17785196 0.18358697]\n",
            "Day 2 output[[0.1907036]]\n",
            "\n",
            "Day 3 input [0.13017032 0.14152474 0.14111922 0.13138686 0.12915653 0.13098135\n",
            " 0.1269262  0.15166261 0.15004055 0.14193025 0.16017843 0.15693431\n",
            " 0.16504461 0.1770073  0.18146796 0.18815896 0.20924574 0.19424169\n",
            " 0.18106245 0.18207624 0.1960665  0.17680454 0.18207624 0.18004866\n",
            " 0.18207624 0.18876723 0.19383617 0.19099757 0.19505272 0.19809408\n",
            " 0.20640714 0.19748581 0.19525547 0.20437956 0.19870235 0.21796431\n",
            " 0.21553122 0.20600162 0.21654501 0.21654501 0.2175588  0.19870235\n",
            " 0.19018654 0.17802109 0.175588   0.16301703 0.16707218 0.17112733\n",
            " 0.17639903 0.18349554 0.1717356  0.16423358 0.16991079 0.17619627\n",
            " 0.16788321 0.16909976 0.17396594 0.17741281 0.18268451 0.19221411\n",
            " 0.18896999 0.19018654 0.17396594 0.17092457 0.16788321 0.17477697\n",
            " 0.16443633 0.14557989 0.15287916 0.15369019 0.15044607 0.14152474\n",
            " 0.15145985 0.13341444 0.12530414 0.11719384 0.11780211 0.12489862\n",
            " 0.14132198 0.13098135 0.12935929 0.13240065 0.12895377 0.12530414\n",
            " 0.13381995 0.14557989 0.15166261 0.15085158 0.14679643 0.14355231\n",
            " 0.12733171 0.14963504 0.14801298 0.15815085 0.16504461 0.15896188\n",
            " 0.16626115 0.17785196 0.18358697 0.1907036 ]\n",
            "Day 3 output[[0.1981925]]\n",
            "\n",
            "Day 4 input [0.14152474 0.14111922 0.13138686 0.12915653 0.13098135 0.1269262\n",
            " 0.15166261 0.15004055 0.14193025 0.16017843 0.15693431 0.16504461\n",
            " 0.1770073  0.18146796 0.18815896 0.20924574 0.19424169 0.18106245\n",
            " 0.18207624 0.1960665  0.17680454 0.18207624 0.18004866 0.18207624\n",
            " 0.18876723 0.19383617 0.19099757 0.19505272 0.19809408 0.20640714\n",
            " 0.19748581 0.19525547 0.20437956 0.19870235 0.21796431 0.21553122\n",
            " 0.20600162 0.21654501 0.21654501 0.2175588  0.19870235 0.19018654\n",
            " 0.17802109 0.175588   0.16301703 0.16707218 0.17112733 0.17639903\n",
            " 0.18349554 0.1717356  0.16423358 0.16991079 0.17619627 0.16788321\n",
            " 0.16909976 0.17396594 0.17741281 0.18268451 0.19221411 0.18896999\n",
            " 0.19018654 0.17396594 0.17092457 0.16788321 0.17477697 0.16443633\n",
            " 0.14557989 0.15287916 0.15369019 0.15044607 0.14152474 0.15145985\n",
            " 0.13341444 0.12530414 0.11719384 0.11780211 0.12489862 0.14132198\n",
            " 0.13098135 0.12935929 0.13240065 0.12895377 0.12530414 0.13381995\n",
            " 0.14557989 0.15166261 0.15085158 0.14679643 0.14355231 0.12733171\n",
            " 0.14963504 0.14801298 0.15815085 0.16504461 0.15896188 0.16626115\n",
            " 0.17785196 0.18358697 0.1907036  0.19819251]\n",
            "Day 4 output[[0.20572329]]\n",
            "\n",
            "Day 5 input [0.14111922 0.13138686 0.12915653 0.13098135 0.1269262  0.15166261\n",
            " 0.15004055 0.14193025 0.16017843 0.15693431 0.16504461 0.1770073\n",
            " 0.18146796 0.18815896 0.20924574 0.19424169 0.18106245 0.18207624\n",
            " 0.1960665  0.17680454 0.18207624 0.18004866 0.18207624 0.18876723\n",
            " 0.19383617 0.19099757 0.19505272 0.19809408 0.20640714 0.19748581\n",
            " 0.19525547 0.20437956 0.19870235 0.21796431 0.21553122 0.20600162\n",
            " 0.21654501 0.21654501 0.2175588  0.19870235 0.19018654 0.17802109\n",
            " 0.175588   0.16301703 0.16707218 0.17112733 0.17639903 0.18349554\n",
            " 0.1717356  0.16423358 0.16991079 0.17619627 0.16788321 0.16909976\n",
            " 0.17396594 0.17741281 0.18268451 0.19221411 0.18896999 0.19018654\n",
            " 0.17396594 0.17092457 0.16788321 0.17477697 0.16443633 0.14557989\n",
            " 0.15287916 0.15369019 0.15044607 0.14152474 0.15145985 0.13341444\n",
            " 0.12530414 0.11719384 0.11780211 0.12489862 0.14132198 0.13098135\n",
            " 0.12935929 0.13240065 0.12895377 0.12530414 0.13381995 0.14557989\n",
            " 0.15166261 0.15085158 0.14679643 0.14355231 0.12733171 0.14963504\n",
            " 0.14801298 0.15815085 0.16504461 0.15896188 0.16626115 0.17785196\n",
            " 0.18358697 0.1907036  0.19819251 0.20572329]\n",
            "Day 5 output[[0.21321395]]\n",
            "\n",
            "Day 6 input [0.13138686 0.12915653 0.13098135 0.1269262  0.15166261 0.15004055\n",
            " 0.14193025 0.16017843 0.15693431 0.16504461 0.1770073  0.18146796\n",
            " 0.18815896 0.20924574 0.19424169 0.18106245 0.18207624 0.1960665\n",
            " 0.17680454 0.18207624 0.18004866 0.18207624 0.18876723 0.19383617\n",
            " 0.19099757 0.19505272 0.19809408 0.20640714 0.19748581 0.19525547\n",
            " 0.20437956 0.19870235 0.21796431 0.21553122 0.20600162 0.21654501\n",
            " 0.21654501 0.2175588  0.19870235 0.19018654 0.17802109 0.175588\n",
            " 0.16301703 0.16707218 0.17112733 0.17639903 0.18349554 0.1717356\n",
            " 0.16423358 0.16991079 0.17619627 0.16788321 0.16909976 0.17396594\n",
            " 0.17741281 0.18268451 0.19221411 0.18896999 0.19018654 0.17396594\n",
            " 0.17092457 0.16788321 0.17477697 0.16443633 0.14557989 0.15287916\n",
            " 0.15369019 0.15044607 0.14152474 0.15145985 0.13341444 0.12530414\n",
            " 0.11719384 0.11780211 0.12489862 0.14132198 0.13098135 0.12935929\n",
            " 0.13240065 0.12895377 0.12530414 0.13381995 0.14557989 0.15166261\n",
            " 0.15085158 0.14679643 0.14355231 0.12733171 0.14963504 0.14801298\n",
            " 0.15815085 0.16504461 0.15896188 0.16626115 0.17785196 0.18358697\n",
            " 0.1907036  0.19819251 0.20572329 0.21321395]\n",
            "Day 6 output[[0.2206527]]\n",
            "\n",
            "Day 7 input [0.12915653 0.13098135 0.1269262  0.15166261 0.15004055 0.14193025\n",
            " 0.16017843 0.15693431 0.16504461 0.1770073  0.18146796 0.18815896\n",
            " 0.20924574 0.19424169 0.18106245 0.18207624 0.1960665  0.17680454\n",
            " 0.18207624 0.18004866 0.18207624 0.18876723 0.19383617 0.19099757\n",
            " 0.19505272 0.19809408 0.20640714 0.19748581 0.19525547 0.20437956\n",
            " 0.19870235 0.21796431 0.21553122 0.20600162 0.21654501 0.21654501\n",
            " 0.2175588  0.19870235 0.19018654 0.17802109 0.175588   0.16301703\n",
            " 0.16707218 0.17112733 0.17639903 0.18349554 0.1717356  0.16423358\n",
            " 0.16991079 0.17619627 0.16788321 0.16909976 0.17396594 0.17741281\n",
            " 0.18268451 0.19221411 0.18896999 0.19018654 0.17396594 0.17092457\n",
            " 0.16788321 0.17477697 0.16443633 0.14557989 0.15287916 0.15369019\n",
            " 0.15044607 0.14152474 0.15145985 0.13341444 0.12530414 0.11719384\n",
            " 0.11780211 0.12489862 0.14132198 0.13098135 0.12935929 0.13240065\n",
            " 0.12895377 0.12530414 0.13381995 0.14557989 0.15166261 0.15085158\n",
            " 0.14679643 0.14355231 0.12733171 0.14963504 0.14801298 0.15815085\n",
            " 0.16504461 0.15896188 0.16626115 0.17785196 0.18358697 0.1907036\n",
            " 0.19819251 0.20572329 0.21321395 0.2206527 ]\n",
            "Day 7 output[[0.22805066]]\n",
            "\n",
            "Day 8 input [0.13098135 0.1269262  0.15166261 0.15004055 0.14193025 0.16017843\n",
            " 0.15693431 0.16504461 0.1770073  0.18146796 0.18815896 0.20924574\n",
            " 0.19424169 0.18106245 0.18207624 0.1960665  0.17680454 0.18207624\n",
            " 0.18004866 0.18207624 0.18876723 0.19383617 0.19099757 0.19505272\n",
            " 0.19809408 0.20640714 0.19748581 0.19525547 0.20437956 0.19870235\n",
            " 0.21796431 0.21553122 0.20600162 0.21654501 0.21654501 0.2175588\n",
            " 0.19870235 0.19018654 0.17802109 0.175588   0.16301703 0.16707218\n",
            " 0.17112733 0.17639903 0.18349554 0.1717356  0.16423358 0.16991079\n",
            " 0.17619627 0.16788321 0.16909976 0.17396594 0.17741281 0.18268451\n",
            " 0.19221411 0.18896999 0.19018654 0.17396594 0.17092457 0.16788321\n",
            " 0.17477697 0.16443633 0.14557989 0.15287916 0.15369019 0.15044607\n",
            " 0.14152474 0.15145985 0.13341444 0.12530414 0.11719384 0.11780211\n",
            " 0.12489862 0.14132198 0.13098135 0.12935929 0.13240065 0.12895377\n",
            " 0.12530414 0.13381995 0.14557989 0.15166261 0.15085158 0.14679643\n",
            " 0.14355231 0.12733171 0.14963504 0.14801298 0.15815085 0.16504461\n",
            " 0.15896188 0.16626115 0.17785196 0.18358697 0.1907036  0.19819251\n",
            " 0.20572329 0.21321395 0.2206527  0.22805066]\n",
            "Day 8 output[[0.23543057]]\n",
            "\n",
            "Day 9 input [0.1269262  0.15166261 0.15004055 0.14193025 0.16017843 0.15693431\n",
            " 0.16504461 0.1770073  0.18146796 0.18815896 0.20924574 0.19424169\n",
            " 0.18106245 0.18207624 0.1960665  0.17680454 0.18207624 0.18004866\n",
            " 0.18207624 0.18876723 0.19383617 0.19099757 0.19505272 0.19809408\n",
            " 0.20640714 0.19748581 0.19525547 0.20437956 0.19870235 0.21796431\n",
            " 0.21553122 0.20600162 0.21654501 0.21654501 0.2175588  0.19870235\n",
            " 0.19018654 0.17802109 0.175588   0.16301703 0.16707218 0.17112733\n",
            " 0.17639903 0.18349554 0.1717356  0.16423358 0.16991079 0.17619627\n",
            " 0.16788321 0.16909976 0.17396594 0.17741281 0.18268451 0.19221411\n",
            " 0.18896999 0.19018654 0.17396594 0.17092457 0.16788321 0.17477697\n",
            " 0.16443633 0.14557989 0.15287916 0.15369019 0.15044607 0.14152474\n",
            " 0.15145985 0.13341444 0.12530414 0.11719384 0.11780211 0.12489862\n",
            " 0.14132198 0.13098135 0.12935929 0.13240065 0.12895377 0.12530414\n",
            " 0.13381995 0.14557989 0.15166261 0.15085158 0.14679643 0.14355231\n",
            " 0.12733171 0.14963504 0.14801298 0.15815085 0.16504461 0.15896188\n",
            " 0.16626115 0.17785196 0.18358697 0.1907036  0.19819251 0.20572329\n",
            " 0.21321395 0.2206527  0.22805066 0.23543057]\n",
            "Day 9 output[[0.24282137]]\n",
            "\n",
            "Day 10 input [0.15166261 0.15004055 0.14193025 0.16017843 0.15693431 0.16504461\n",
            " 0.1770073  0.18146796 0.18815896 0.20924574 0.19424169 0.18106245\n",
            " 0.18207624 0.1960665  0.17680454 0.18207624 0.18004866 0.18207624\n",
            " 0.18876723 0.19383617 0.19099757 0.19505272 0.19809408 0.20640714\n",
            " 0.19748581 0.19525547 0.20437956 0.19870235 0.21796431 0.21553122\n",
            " 0.20600162 0.21654501 0.21654501 0.2175588  0.19870235 0.19018654\n",
            " 0.17802109 0.175588   0.16301703 0.16707218 0.17112733 0.17639903\n",
            " 0.18349554 0.1717356  0.16423358 0.16991079 0.17619627 0.16788321\n",
            " 0.16909976 0.17396594 0.17741281 0.18268451 0.19221411 0.18896999\n",
            " 0.19018654 0.17396594 0.17092457 0.16788321 0.17477697 0.16443633\n",
            " 0.14557989 0.15287916 0.15369019 0.15044607 0.14152474 0.15145985\n",
            " 0.13341444 0.12530414 0.11719384 0.11780211 0.12489862 0.14132198\n",
            " 0.13098135 0.12935929 0.13240065 0.12895377 0.12530414 0.13381995\n",
            " 0.14557989 0.15166261 0.15085158 0.14679643 0.14355231 0.12733171\n",
            " 0.14963504 0.14801298 0.15815085 0.16504461 0.15896188 0.16626115\n",
            " 0.17785196 0.18358697 0.1907036  0.19819251 0.20572329 0.21321395\n",
            " 0.2206527  0.22805066 0.23543057 0.24282137]\n",
            "Day 10 output[[0.2502543]]\n",
            "\n",
            "Day 11 input [0.15004055 0.14193025 0.16017843 0.15693431 0.16504461 0.1770073\n",
            " 0.18146796 0.18815896 0.20924574 0.19424169 0.18106245 0.18207624\n",
            " 0.1960665  0.17680454 0.18207624 0.18004866 0.18207624 0.18876723\n",
            " 0.19383617 0.19099757 0.19505272 0.19809408 0.20640714 0.19748581\n",
            " 0.19525547 0.20437956 0.19870235 0.21796431 0.21553122 0.20600162\n",
            " 0.21654501 0.21654501 0.2175588  0.19870235 0.19018654 0.17802109\n",
            " 0.175588   0.16301703 0.16707218 0.17112733 0.17639903 0.18349554\n",
            " 0.1717356  0.16423358 0.16991079 0.17619627 0.16788321 0.16909976\n",
            " 0.17396594 0.17741281 0.18268451 0.19221411 0.18896999 0.19018654\n",
            " 0.17396594 0.17092457 0.16788321 0.17477697 0.16443633 0.14557989\n",
            " 0.15287916 0.15369019 0.15044607 0.14152474 0.15145985 0.13341444\n",
            " 0.12530414 0.11719384 0.11780211 0.12489862 0.14132198 0.13098135\n",
            " 0.12935929 0.13240065 0.12895377 0.12530414 0.13381995 0.14557989\n",
            " 0.15166261 0.15085158 0.14679643 0.14355231 0.12733171 0.14963504\n",
            " 0.14801298 0.15815085 0.16504461 0.15896188 0.16626115 0.17785196\n",
            " 0.18358697 0.1907036  0.19819251 0.20572329 0.21321395 0.2206527\n",
            " 0.22805066 0.23543057 0.24282137 0.2502543 ]\n",
            "Day 11 output[[0.25775892]]\n",
            "\n",
            "Day 12 input [0.14193025 0.16017843 0.15693431 0.16504461 0.1770073  0.18146796\n",
            " 0.18815896 0.20924574 0.19424169 0.18106245 0.18207624 0.1960665\n",
            " 0.17680454 0.18207624 0.18004866 0.18207624 0.18876723 0.19383617\n",
            " 0.19099757 0.19505272 0.19809408 0.20640714 0.19748581 0.19525547\n",
            " 0.20437956 0.19870235 0.21796431 0.21553122 0.20600162 0.21654501\n",
            " 0.21654501 0.2175588  0.19870235 0.19018654 0.17802109 0.175588\n",
            " 0.16301703 0.16707218 0.17112733 0.17639903 0.18349554 0.1717356\n",
            " 0.16423358 0.16991079 0.17619627 0.16788321 0.16909976 0.17396594\n",
            " 0.17741281 0.18268451 0.19221411 0.18896999 0.19018654 0.17396594\n",
            " 0.17092457 0.16788321 0.17477697 0.16443633 0.14557989 0.15287916\n",
            " 0.15369019 0.15044607 0.14152474 0.15145985 0.13341444 0.12530414\n",
            " 0.11719384 0.11780211 0.12489862 0.14132198 0.13098135 0.12935929\n",
            " 0.13240065 0.12895377 0.12530414 0.13381995 0.14557989 0.15166261\n",
            " 0.15085158 0.14679643 0.14355231 0.12733171 0.14963504 0.14801298\n",
            " 0.15815085 0.16504461 0.15896188 0.16626115 0.17785196 0.18358697\n",
            " 0.1907036  0.19819251 0.20572329 0.21321395 0.2206527  0.22805066\n",
            " 0.23543057 0.24282137 0.2502543  0.25775892]\n",
            "Day 12 output[[0.26536158]]\n",
            "\n",
            "Day 13 input [0.16017843 0.15693431 0.16504461 0.1770073  0.18146796 0.18815896\n",
            " 0.20924574 0.19424169 0.18106245 0.18207624 0.1960665  0.17680454\n",
            " 0.18207624 0.18004866 0.18207624 0.18876723 0.19383617 0.19099757\n",
            " 0.19505272 0.19809408 0.20640714 0.19748581 0.19525547 0.20437956\n",
            " 0.19870235 0.21796431 0.21553122 0.20600162 0.21654501 0.21654501\n",
            " 0.2175588  0.19870235 0.19018654 0.17802109 0.175588   0.16301703\n",
            " 0.16707218 0.17112733 0.17639903 0.18349554 0.1717356  0.16423358\n",
            " 0.16991079 0.17619627 0.16788321 0.16909976 0.17396594 0.17741281\n",
            " 0.18268451 0.19221411 0.18896999 0.19018654 0.17396594 0.17092457\n",
            " 0.16788321 0.17477697 0.16443633 0.14557989 0.15287916 0.15369019\n",
            " 0.15044607 0.14152474 0.15145985 0.13341444 0.12530414 0.11719384\n",
            " 0.11780211 0.12489862 0.14132198 0.13098135 0.12935929 0.13240065\n",
            " 0.12895377 0.12530414 0.13381995 0.14557989 0.15166261 0.15085158\n",
            " 0.14679643 0.14355231 0.12733171 0.14963504 0.14801298 0.15815085\n",
            " 0.16504461 0.15896188 0.16626115 0.17785196 0.18358697 0.1907036\n",
            " 0.19819251 0.20572329 0.21321395 0.2206527  0.22805066 0.23543057\n",
            " 0.24282137 0.2502543  0.25775892 0.26536158]\n",
            "Day 13 output[[0.2730844]]\n",
            "\n",
            "Day 14 input [0.15693431 0.16504461 0.1770073  0.18146796 0.18815896 0.20924574\n",
            " 0.19424169 0.18106245 0.18207624 0.1960665  0.17680454 0.18207624\n",
            " 0.18004866 0.18207624 0.18876723 0.19383617 0.19099757 0.19505272\n",
            " 0.19809408 0.20640714 0.19748581 0.19525547 0.20437956 0.19870235\n",
            " 0.21796431 0.21553122 0.20600162 0.21654501 0.21654501 0.2175588\n",
            " 0.19870235 0.19018654 0.17802109 0.175588   0.16301703 0.16707218\n",
            " 0.17112733 0.17639903 0.18349554 0.1717356  0.16423358 0.16991079\n",
            " 0.17619627 0.16788321 0.16909976 0.17396594 0.17741281 0.18268451\n",
            " 0.19221411 0.18896999 0.19018654 0.17396594 0.17092457 0.16788321\n",
            " 0.17477697 0.16443633 0.14557989 0.15287916 0.15369019 0.15044607\n",
            " 0.14152474 0.15145985 0.13341444 0.12530414 0.11719384 0.11780211\n",
            " 0.12489862 0.14132198 0.13098135 0.12935929 0.13240065 0.12895377\n",
            " 0.12530414 0.13381995 0.14557989 0.15166261 0.15085158 0.14679643\n",
            " 0.14355231 0.12733171 0.14963504 0.14801298 0.15815085 0.16504461\n",
            " 0.15896188 0.16626115 0.17785196 0.18358697 0.1907036  0.19819251\n",
            " 0.20572329 0.21321395 0.2206527  0.22805066 0.23543057 0.24282137\n",
            " 0.2502543  0.25775892 0.26536158 0.2730844 ]\n",
            "Day 14 output[[0.28094548]]\n",
            "\n"
          ]
        }
      ]
    },
    {
      "cell_type": "code",
      "source": [
        "day_new = np.arange(1,101)\n",
        "day_pred = np.arange(101,116)"
      ],
      "metadata": {
        "id": "-VKqYTsLsnHX"
      },
      "execution_count": 484,
      "outputs": []
    },
    {
      "cell_type": "code",
      "source": [
        "fd = df.tolidt()\n",
        "fd.extend(lst_output)"
      ],
      "metadata": {
        "colab": {
          "base_uri": "https://localhost:8080/",
          "height": 182
        },
        "id": "DNnML9ijs6xY",
        "outputId": "d77e8e0f-fb1f-4aa2-93b3-17f47690afc0"
      },
      "execution_count": 485,
      "outputs": [
        {
          "output_type": "error",
          "ename": "AttributeError",
          "evalue": "ignored",
          "traceback": [
            "\u001b[0;31m---------------------------------------------------------------------------\u001b[0m",
            "\u001b[0;31mAttributeError\u001b[0m                            Traceback (most recent call last)",
            "\u001b[0;32m<ipython-input-485-bc7c33ae87f2>\u001b[0m in \u001b[0;36m<module>\u001b[0;34m()\u001b[0m\n\u001b[0;32m----> 1\u001b[0;31m \u001b[0mfd\u001b[0m \u001b[0;34m=\u001b[0m \u001b[0mdf\u001b[0m\u001b[0;34m.\u001b[0m\u001b[0mtolidt\u001b[0m\u001b[0;34m(\u001b[0m\u001b[0;34m)\u001b[0m\u001b[0;34m\u001b[0m\u001b[0;34m\u001b[0m\u001b[0m\n\u001b[0m\u001b[1;32m      2\u001b[0m \u001b[0mfd\u001b[0m\u001b[0;34m.\u001b[0m\u001b[0mextend\u001b[0m\u001b[0;34m(\u001b[0m\u001b[0mlst_output\u001b[0m\u001b[0;34m)\u001b[0m\u001b[0;34m\u001b[0m\u001b[0;34m\u001b[0m\u001b[0m\n",
            "\u001b[0;31mAttributeError\u001b[0m: 'numpy.ndarray' object has no attribute 'tolidt'"
          ]
        }
      ]
    },
    {
      "cell_type": "code",
      "source": [
        "len(df)"
      ],
      "metadata": {
        "colab": {
          "base_uri": "https://localhost:8080/",
          "height": 0
        },
        "id": "9q1QriH5tAlH",
        "outputId": "b83dc9f3-7501-4830-8107-e90bf24dcea3"
      },
      "execution_count": 486,
      "outputs": [
        {
          "output_type": "execute_result",
          "data": {
            "text/plain": [
              "2035"
            ]
          },
          "metadata": {},
          "execution_count": 486
        }
      ]
    },
    {
      "cell_type": "code",
      "source": [
        "2035-100"
      ],
      "metadata": {
        "colab": {
          "base_uri": "https://localhost:8080/",
          "height": 0
        },
        "id": "dPElnX7mtBxj",
        "outputId": "ee5f8848-62eb-471e-a867-453dd2471215"
      },
      "execution_count": 487,
      "outputs": [
        {
          "output_type": "execute_result",
          "data": {
            "text/plain": [
              "1935"
            ]
          },
          "metadata": {},
          "execution_count": 487
        }
      ]
    },
    {
      "cell_type": "code",
      "source": [
        "plt.subplots(figsize = (16,16))\n",
        "plt.plot(day_new, sc.inverse_transform(df[1935:]))\n",
        "plt.plot(day_pred, sc.inverse_transform(lst_output))"
      ],
      "metadata": {
        "colab": {
          "base_uri": "https://localhost:8080/",
          "height": 935
        },
        "id": "vTWkRrBstDxe",
        "outputId": "2f5fb5c0-6e83-4432-9ac3-da665b65c7c8"
      },
      "execution_count": 488,
      "outputs": [
        {
          "output_type": "execute_result",
          "data": {
            "text/plain": [
              "[<matplotlib.lines.Line2D at 0x7fe24ffb5690>]"
            ]
          },
          "metadata": {},
          "execution_count": 488
        },
        {
          "output_type": "display_data",
          "data": {
            "text/plain": [
              "<Figure size 1152x1152 with 1 Axes>"
            ],
            "image/png": "[encoded data removed]"
          },
          "metadata": {
            "needs_background": "light"
          }
        }
      ]
    },
    {
      "cell_type": "code",
      "source": [
        ""
      ],
      "metadata": {
        "id": "nMYS0c8Wtg-O"
      },
      "execution_count": null,
      "outputs": []
    }
  ],
  "metadata": {
    "colab": {
      "name": "Untitled2.ipynb",
      "provenance": [],
      "collapsed_sections": [],
      "authorship_tag": "ABX9TyOn69VEu4mZCHoM56qG7UvH",
      "include_colab_link": true
    },
    "kernelspec": {
      "display_name": "Python 3",
      "name": "python3"
    },
    "language_info": {
      "name": "python"
    }
  },
  "nbformat": 4,
  "nbformat_minor": 0
}